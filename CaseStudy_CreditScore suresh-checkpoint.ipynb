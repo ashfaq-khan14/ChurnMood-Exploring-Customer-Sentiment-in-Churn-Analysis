{
 "cells": [
  {
   "cell_type": "markdown",
   "id": "819bc252",
   "metadata": {},
   "source": [
    "## Data set Link: https://www.kaggle.com/datasets/parisrohan/credit-score-classification/download?datasetVersionNumber=1"
   ]
  },
  {
   "cell_type": "code",
   "execution_count": 1,
   "id": "9c584773",
   "metadata": {},
   "outputs": [],
   "source": [
    "# Importing necessary Libraries\n",
    "import os\n",
    "import re\n",
    "import warnings\n",
    "\n",
    "import pandas as pd\n",
    "import numpy as np\n",
    "import seaborn as sns\n",
    "from matplotlib import pyplot as plt\n",
    "\n",
    "from sklearn.model_selection import train_test_split, GridSearchCV, RandomizedSearchCV\n",
    "from sklearn.preprocessing import OneHotEncoder, StandardScaler\n",
    "from sklearn.feature_selection import chi2, SelectKBest, SelectFromModel, f_classif\n",
    "from sklearn.tree import DecisionTreeClassifier\n",
    "from sklearn.neighbors import KNeighborsClassifier\n",
    "from sklearn.ensemble import RandomForestClassifier, AdaBoostClassifier,GradientBoostingClassifier, BaggingClassifier\n",
    "from sklearn.linear_model import LogisticRegression\n",
    "from sklearn.svm import SVC\n",
    "#from xgboost import XGBClassifier\n",
    "#import lightgbm\n",
    "from sklearn.metrics import accuracy_score, precision_score, recall_score, f1_score, classification_report\n",
    "from sklearn import set_config\n",
    "\n",
    "from imblearn.over_sampling import SMOTE, SMOTENC#"
   ]
  },
  {
   "cell_type": "code",
   "execution_count": 2,
   "id": "5b0b2672",
   "metadata": {},
   "outputs": [],
   "source": [
    "from scipy.stats import mode"
   ]
  },
  {
   "cell_type": "code",
   "execution_count": 3,
   "id": "c729232a",
   "metadata": {},
   "outputs": [],
   "source": [
    "# Constants \n",
    "SEED = 97\n",
    "set_config(transform_output='pandas')\n",
    "warnings.filterwarnings('ignore')"
   ]
  },
  {
   "cell_type": "code",
   "execution_count": 4,
   "id": "4feadd5e",
   "metadata": {},
   "outputs": [],
   "source": [
    "# Read the Data\n",
    "import pandas as pd\n",
    "train_data=pd.read_csv(r'C:\\Users\\mohd ashfaq\\Downloads\\train.csv')\n",
    "test_data=pd.read_csv(r'C:\\Users\\mohd ashfaq\\Downloads\\test.csv')"
   ]
  },
  {
   "cell_type": "code",
   "execution_count": null,
   "id": "5efab2f1",
   "metadata": {},
   "outputs": [],
   "source": [
    "train_data\n"
   ]
  },
  {
   "cell_type": "code",
   "execution_count": null,
   "id": "ff4fb211",
   "metadata": {},
   "outputs": [],
   "source": []
  },
  {
   "cell_type": "code",
   "execution_count": null,
   "id": "0709911e",
   "metadata": {},
   "outputs": [],
   "source": []
  },
  {
   "cell_type": "markdown",
   "id": "916ac9eb",
   "metadata": {},
   "source": [
    "# Basic Checks on Data"
   ]
  },
  {
   "cell_type": "code",
   "execution_count": 5,
   "id": "48172bb7",
   "metadata": {},
   "outputs": [
    {
     "data": {
      "text/plain": [
       "(100000, 28)"
      ]
     },
     "execution_count": 5,
     "metadata": {},
     "output_type": "execute_result"
    }
   ],
   "source": [
    "train_data.shape"
   ]
  },
  {
   "cell_type": "code",
   "execution_count": 6,
   "id": "60f75bbd",
   "metadata": {},
   "outputs": [
    {
     "data": {
      "text/plain": [
       "(50000, 27)"
      ]
     },
     "execution_count": 6,
     "metadata": {},
     "output_type": "execute_result"
    }
   ],
   "source": [
    "test_data.shape # No Output Columns"
   ]
  },
  {
   "cell_type": "code",
   "execution_count": 7,
   "id": "64e213d2",
   "metadata": {},
   "outputs": [
    {
     "data": {
      "text/plain": [
       "{'Credit_Score'}"
      ]
     },
     "execution_count": 7,
     "metadata": {},
     "output_type": "execute_result"
    }
   ],
   "source": [
    "set(train_data.columns.tolist())-set(test_data.columns.tolist())"
   ]
  },
  {
   "cell_type": "code",
   "execution_count": 8,
   "id": "00f48bce",
   "metadata": {},
   "outputs": [
    {
     "data": {
      "text/html": [
       "<div>\n",
       "<style scoped>\n",
       "    .dataframe tbody tr th:only-of-type {\n",
       "        vertical-align: middle;\n",
       "    }\n",
       "\n",
       "    .dataframe tbody tr th {\n",
       "        vertical-align: top;\n",
       "    }\n",
       "\n",
       "    .dataframe thead th {\n",
       "        text-align: right;\n",
       "    }\n",
       "</style>\n",
       "<table border=\"1\" class=\"dataframe\">\n",
       "  <thead>\n",
       "    <tr style=\"text-align: right;\">\n",
       "      <th></th>\n",
       "      <th>ID</th>\n",
       "      <th>Customer_ID</th>\n",
       "      <th>Month</th>\n",
       "      <th>Name</th>\n",
       "      <th>Age</th>\n",
       "      <th>SSN</th>\n",
       "      <th>Occupation</th>\n",
       "      <th>Annual_Income</th>\n",
       "      <th>Monthly_Inhand_Salary</th>\n",
       "      <th>Num_Bank_Accounts</th>\n",
       "      <th>...</th>\n",
       "      <th>Credit_Mix</th>\n",
       "      <th>Outstanding_Debt</th>\n",
       "      <th>Credit_Utilization_Ratio</th>\n",
       "      <th>Credit_History_Age</th>\n",
       "      <th>Payment_of_Min_Amount</th>\n",
       "      <th>Total_EMI_per_month</th>\n",
       "      <th>Amount_invested_monthly</th>\n",
       "      <th>Payment_Behaviour</th>\n",
       "      <th>Monthly_Balance</th>\n",
       "      <th>Credit_Score</th>\n",
       "    </tr>\n",
       "  </thead>\n",
       "  <tbody>\n",
       "    <tr>\n",
       "      <th>0</th>\n",
       "      <td>0x1602</td>\n",
       "      <td>CUS_0xd40</td>\n",
       "      <td>January</td>\n",
       "      <td>Aaron Maashoh</td>\n",
       "      <td>23</td>\n",
       "      <td>821-00-0265</td>\n",
       "      <td>Scientist</td>\n",
       "      <td>19114.12</td>\n",
       "      <td>1824.843333</td>\n",
       "      <td>3</td>\n",
       "      <td>...</td>\n",
       "      <td>_</td>\n",
       "      <td>809.98</td>\n",
       "      <td>26.822620</td>\n",
       "      <td>22 Years and 1 Months</td>\n",
       "      <td>No</td>\n",
       "      <td>49.574949</td>\n",
       "      <td>80.41529543900253</td>\n",
       "      <td>High_spent_Small_value_payments</td>\n",
       "      <td>312.49408867943663</td>\n",
       "      <td>Good</td>\n",
       "    </tr>\n",
       "    <tr>\n",
       "      <th>1</th>\n",
       "      <td>0x1603</td>\n",
       "      <td>CUS_0xd40</td>\n",
       "      <td>February</td>\n",
       "      <td>Aaron Maashoh</td>\n",
       "      <td>23</td>\n",
       "      <td>821-00-0265</td>\n",
       "      <td>Scientist</td>\n",
       "      <td>19114.12</td>\n",
       "      <td>NaN</td>\n",
       "      <td>3</td>\n",
       "      <td>...</td>\n",
       "      <td>Good</td>\n",
       "      <td>809.98</td>\n",
       "      <td>31.944960</td>\n",
       "      <td>NaN</td>\n",
       "      <td>No</td>\n",
       "      <td>49.574949</td>\n",
       "      <td>118.28022162236736</td>\n",
       "      <td>Low_spent_Large_value_payments</td>\n",
       "      <td>284.62916249607184</td>\n",
       "      <td>Good</td>\n",
       "    </tr>\n",
       "    <tr>\n",
       "      <th>2</th>\n",
       "      <td>0x1604</td>\n",
       "      <td>CUS_0xd40</td>\n",
       "      <td>March</td>\n",
       "      <td>Aaron Maashoh</td>\n",
       "      <td>-500</td>\n",
       "      <td>821-00-0265</td>\n",
       "      <td>Scientist</td>\n",
       "      <td>19114.12</td>\n",
       "      <td>NaN</td>\n",
       "      <td>3</td>\n",
       "      <td>...</td>\n",
       "      <td>Good</td>\n",
       "      <td>809.98</td>\n",
       "      <td>28.609352</td>\n",
       "      <td>22 Years and 3 Months</td>\n",
       "      <td>No</td>\n",
       "      <td>49.574949</td>\n",
       "      <td>81.699521264648</td>\n",
       "      <td>Low_spent_Medium_value_payments</td>\n",
       "      <td>331.2098628537912</td>\n",
       "      <td>Good</td>\n",
       "    </tr>\n",
       "    <tr>\n",
       "      <th>3</th>\n",
       "      <td>0x1605</td>\n",
       "      <td>CUS_0xd40</td>\n",
       "      <td>April</td>\n",
       "      <td>Aaron Maashoh</td>\n",
       "      <td>23</td>\n",
       "      <td>821-00-0265</td>\n",
       "      <td>Scientist</td>\n",
       "      <td>19114.12</td>\n",
       "      <td>NaN</td>\n",
       "      <td>3</td>\n",
       "      <td>...</td>\n",
       "      <td>Good</td>\n",
       "      <td>809.98</td>\n",
       "      <td>31.377862</td>\n",
       "      <td>22 Years and 4 Months</td>\n",
       "      <td>No</td>\n",
       "      <td>49.574949</td>\n",
       "      <td>199.4580743910713</td>\n",
       "      <td>Low_spent_Small_value_payments</td>\n",
       "      <td>223.45130972736786</td>\n",
       "      <td>Good</td>\n",
       "    </tr>\n",
       "    <tr>\n",
       "      <th>4</th>\n",
       "      <td>0x1606</td>\n",
       "      <td>CUS_0xd40</td>\n",
       "      <td>May</td>\n",
       "      <td>Aaron Maashoh</td>\n",
       "      <td>23</td>\n",
       "      <td>821-00-0265</td>\n",
       "      <td>Scientist</td>\n",
       "      <td>19114.12</td>\n",
       "      <td>1824.843333</td>\n",
       "      <td>3</td>\n",
       "      <td>...</td>\n",
       "      <td>Good</td>\n",
       "      <td>809.98</td>\n",
       "      <td>24.797347</td>\n",
       "      <td>22 Years and 5 Months</td>\n",
       "      <td>No</td>\n",
       "      <td>49.574949</td>\n",
       "      <td>41.420153086217326</td>\n",
       "      <td>High_spent_Medium_value_payments</td>\n",
       "      <td>341.48923103222177</td>\n",
       "      <td>Good</td>\n",
       "    </tr>\n",
       "  </tbody>\n",
       "</table>\n",
       "<p>5 rows × 28 columns</p>\n",
       "</div>"
      ],
      "text/plain": [
       "       ID Customer_ID     Month           Name   Age          SSN Occupation  \\\n",
       "0  0x1602   CUS_0xd40   January  Aaron Maashoh    23  821-00-0265  Scientist   \n",
       "1  0x1603   CUS_0xd40  February  Aaron Maashoh    23  821-00-0265  Scientist   \n",
       "2  0x1604   CUS_0xd40     March  Aaron Maashoh  -500  821-00-0265  Scientist   \n",
       "3  0x1605   CUS_0xd40     April  Aaron Maashoh    23  821-00-0265  Scientist   \n",
       "4  0x1606   CUS_0xd40       May  Aaron Maashoh    23  821-00-0265  Scientist   \n",
       "\n",
       "  Annual_Income  Monthly_Inhand_Salary  Num_Bank_Accounts  ...  Credit_Mix  \\\n",
       "0      19114.12            1824.843333                  3  ...           _   \n",
       "1      19114.12                    NaN                  3  ...        Good   \n",
       "2      19114.12                    NaN                  3  ...        Good   \n",
       "3      19114.12                    NaN                  3  ...        Good   \n",
       "4      19114.12            1824.843333                  3  ...        Good   \n",
       "\n",
       "   Outstanding_Debt Credit_Utilization_Ratio     Credit_History_Age  \\\n",
       "0            809.98                26.822620  22 Years and 1 Months   \n",
       "1            809.98                31.944960                    NaN   \n",
       "2            809.98                28.609352  22 Years and 3 Months   \n",
       "3            809.98                31.377862  22 Years and 4 Months   \n",
       "4            809.98                24.797347  22 Years and 5 Months   \n",
       "\n",
       "   Payment_of_Min_Amount Total_EMI_per_month Amount_invested_monthly  \\\n",
       "0                     No           49.574949       80.41529543900253   \n",
       "1                     No           49.574949      118.28022162236736   \n",
       "2                     No           49.574949         81.699521264648   \n",
       "3                     No           49.574949       199.4580743910713   \n",
       "4                     No           49.574949      41.420153086217326   \n",
       "\n",
       "                  Payment_Behaviour     Monthly_Balance Credit_Score  \n",
       "0   High_spent_Small_value_payments  312.49408867943663         Good  \n",
       "1    Low_spent_Large_value_payments  284.62916249607184         Good  \n",
       "2   Low_spent_Medium_value_payments   331.2098628537912         Good  \n",
       "3    Low_spent_Small_value_payments  223.45130972736786         Good  \n",
       "4  High_spent_Medium_value_payments  341.48923103222177         Good  \n",
       "\n",
       "[5 rows x 28 columns]"
      ]
     },
     "execution_count": 8,
     "metadata": {},
     "output_type": "execute_result"
    }
   ],
   "source": [
    "train_data.head()"
   ]
  },
  {
   "cell_type": "code",
   "execution_count": 9,
   "id": "2e6305d2",
   "metadata": {},
   "outputs": [
    {
     "data": {
      "text/plain": [
       "Standard    0.53174\n",
       "Poor        0.28998\n",
       "Good        0.17828\n",
       "Name: Credit_Score, dtype: float64"
      ]
     },
     "execution_count": 9,
     "metadata": {},
     "output_type": "execute_result"
    }
   ],
   "source": [
    "train_data['Credit_Score'].value_counts(normalize=True)"
   ]
  },
  {
   "cell_type": "code",
   "execution_count": 10,
   "id": "f7783d25",
   "metadata": {},
   "outputs": [
    {
     "data": {
      "text/plain": [
       "ID                           object\n",
       "Customer_ID                  object\n",
       "Month                        object\n",
       "Name                         object\n",
       "Age                          object\n",
       "SSN                          object\n",
       "Occupation                   object\n",
       "Annual_Income                object\n",
       "Monthly_Inhand_Salary       float64\n",
       "Num_Bank_Accounts             int64\n",
       "Num_Credit_Card               int64\n",
       "Interest_Rate                 int64\n",
       "Num_of_Loan                  object\n",
       "Type_of_Loan                 object\n",
       "Delay_from_due_date           int64\n",
       "Num_of_Delayed_Payment       object\n",
       "Changed_Credit_Limit         object\n",
       "Num_Credit_Inquiries        float64\n",
       "Credit_Mix                   object\n",
       "Outstanding_Debt             object\n",
       "Credit_Utilization_Ratio    float64\n",
       "Credit_History_Age           object\n",
       "Payment_of_Min_Amount        object\n",
       "Total_EMI_per_month         float64\n",
       "Amount_invested_monthly      object\n",
       "Payment_Behaviour            object\n",
       "Monthly_Balance              object\n",
       "Credit_Score                 object\n",
       "dtype: object"
      ]
     },
     "execution_count": 10,
     "metadata": {},
     "output_type": "execute_result"
    }
   ],
   "source": [
    "train_data.dtypes"
   ]
  },
  {
   "cell_type": "code",
   "execution_count": 11,
   "id": "417510a5",
   "metadata": {},
   "outputs": [
    {
     "data": {
      "text/plain": [
       "True"
      ]
     },
     "execution_count": 11,
     "metadata": {},
     "output_type": "execute_result"
    }
   ],
   "source": [
    "# What is the Unique Column in the Data ?\n",
    "train_data['ID'].nunique()==train_data.shape[0]"
   ]
  },
  {
   "cell_type": "code",
   "execution_count": 12,
   "id": "4e9f6840",
   "metadata": {},
   "outputs": [
    {
     "data": {
      "text/plain": [
       "False"
      ]
     },
     "execution_count": 12,
     "metadata": {},
     "output_type": "execute_result"
    }
   ],
   "source": [
    "train_data['Customer_ID'].nunique()==train_data.shape[0]"
   ]
  },
  {
   "cell_type": "code",
   "execution_count": 13,
   "id": "b3923932",
   "metadata": {},
   "outputs": [
    {
     "data": {
      "text/plain": [
       "False"
      ]
     },
     "execution_count": 13,
     "metadata": {},
     "output_type": "execute_result"
    }
   ],
   "source": [
    "train_data['SSN'].nunique()==train_data.shape[0]"
   ]
  },
  {
   "cell_type": "code",
   "execution_count": 14,
   "id": "d2bb0b6d",
   "metadata": {},
   "outputs": [
    {
     "data": {
      "text/html": [
       "<div>\n",
       "<style scoped>\n",
       "    .dataframe tbody tr th:only-of-type {\n",
       "        vertical-align: middle;\n",
       "    }\n",
       "\n",
       "    .dataframe tbody tr th {\n",
       "        vertical-align: top;\n",
       "    }\n",
       "\n",
       "    .dataframe thead th {\n",
       "        text-align: right;\n",
       "    }\n",
       "</style>\n",
       "<table border=\"1\" class=\"dataframe\">\n",
       "  <thead>\n",
       "    <tr style=\"text-align: right;\">\n",
       "      <th></th>\n",
       "      <th>ID</th>\n",
       "      <th>Customer_ID</th>\n",
       "      <th>Month</th>\n",
       "      <th>Name</th>\n",
       "      <th>Age</th>\n",
       "      <th>SSN</th>\n",
       "      <th>Occupation</th>\n",
       "      <th>Annual_Income</th>\n",
       "      <th>Monthly_Inhand_Salary</th>\n",
       "      <th>Num_Bank_Accounts</th>\n",
       "      <th>...</th>\n",
       "      <th>Credit_Mix</th>\n",
       "      <th>Outstanding_Debt</th>\n",
       "      <th>Credit_Utilization_Ratio</th>\n",
       "      <th>Credit_History_Age</th>\n",
       "      <th>Payment_of_Min_Amount</th>\n",
       "      <th>Total_EMI_per_month</th>\n",
       "      <th>Amount_invested_monthly</th>\n",
       "      <th>Payment_Behaviour</th>\n",
       "      <th>Monthly_Balance</th>\n",
       "      <th>Credit_Score</th>\n",
       "    </tr>\n",
       "  </thead>\n",
       "  <tbody>\n",
       "    <tr>\n",
       "      <th>0</th>\n",
       "      <td>0x1602</td>\n",
       "      <td>CUS_0xd40</td>\n",
       "      <td>January</td>\n",
       "      <td>Aaron Maashoh</td>\n",
       "      <td>23</td>\n",
       "      <td>821-00-0265</td>\n",
       "      <td>Scientist</td>\n",
       "      <td>19114.12</td>\n",
       "      <td>1824.843333</td>\n",
       "      <td>3</td>\n",
       "      <td>...</td>\n",
       "      <td>_</td>\n",
       "      <td>809.98</td>\n",
       "      <td>26.822620</td>\n",
       "      <td>22 Years and 1 Months</td>\n",
       "      <td>No</td>\n",
       "      <td>49.574949</td>\n",
       "      <td>80.41529543900253</td>\n",
       "      <td>High_spent_Small_value_payments</td>\n",
       "      <td>312.49408867943663</td>\n",
       "      <td>Good</td>\n",
       "    </tr>\n",
       "    <tr>\n",
       "      <th>1</th>\n",
       "      <td>0x1603</td>\n",
       "      <td>CUS_0xd40</td>\n",
       "      <td>February</td>\n",
       "      <td>Aaron Maashoh</td>\n",
       "      <td>23</td>\n",
       "      <td>821-00-0265</td>\n",
       "      <td>Scientist</td>\n",
       "      <td>19114.12</td>\n",
       "      <td>NaN</td>\n",
       "      <td>3</td>\n",
       "      <td>...</td>\n",
       "      <td>Good</td>\n",
       "      <td>809.98</td>\n",
       "      <td>31.944960</td>\n",
       "      <td>NaN</td>\n",
       "      <td>No</td>\n",
       "      <td>49.574949</td>\n",
       "      <td>118.28022162236736</td>\n",
       "      <td>Low_spent_Large_value_payments</td>\n",
       "      <td>284.62916249607184</td>\n",
       "      <td>Good</td>\n",
       "    </tr>\n",
       "    <tr>\n",
       "      <th>2</th>\n",
       "      <td>0x1604</td>\n",
       "      <td>CUS_0xd40</td>\n",
       "      <td>March</td>\n",
       "      <td>Aaron Maashoh</td>\n",
       "      <td>-500</td>\n",
       "      <td>821-00-0265</td>\n",
       "      <td>Scientist</td>\n",
       "      <td>19114.12</td>\n",
       "      <td>NaN</td>\n",
       "      <td>3</td>\n",
       "      <td>...</td>\n",
       "      <td>Good</td>\n",
       "      <td>809.98</td>\n",
       "      <td>28.609352</td>\n",
       "      <td>22 Years and 3 Months</td>\n",
       "      <td>No</td>\n",
       "      <td>49.574949</td>\n",
       "      <td>81.699521264648</td>\n",
       "      <td>Low_spent_Medium_value_payments</td>\n",
       "      <td>331.2098628537912</td>\n",
       "      <td>Good</td>\n",
       "    </tr>\n",
       "    <tr>\n",
       "      <th>3</th>\n",
       "      <td>0x1605</td>\n",
       "      <td>CUS_0xd40</td>\n",
       "      <td>April</td>\n",
       "      <td>Aaron Maashoh</td>\n",
       "      <td>23</td>\n",
       "      <td>821-00-0265</td>\n",
       "      <td>Scientist</td>\n",
       "      <td>19114.12</td>\n",
       "      <td>NaN</td>\n",
       "      <td>3</td>\n",
       "      <td>...</td>\n",
       "      <td>Good</td>\n",
       "      <td>809.98</td>\n",
       "      <td>31.377862</td>\n",
       "      <td>22 Years and 4 Months</td>\n",
       "      <td>No</td>\n",
       "      <td>49.574949</td>\n",
       "      <td>199.4580743910713</td>\n",
       "      <td>Low_spent_Small_value_payments</td>\n",
       "      <td>223.45130972736786</td>\n",
       "      <td>Good</td>\n",
       "    </tr>\n",
       "    <tr>\n",
       "      <th>4</th>\n",
       "      <td>0x1606</td>\n",
       "      <td>CUS_0xd40</td>\n",
       "      <td>May</td>\n",
       "      <td>Aaron Maashoh</td>\n",
       "      <td>23</td>\n",
       "      <td>821-00-0265</td>\n",
       "      <td>Scientist</td>\n",
       "      <td>19114.12</td>\n",
       "      <td>1824.843333</td>\n",
       "      <td>3</td>\n",
       "      <td>...</td>\n",
       "      <td>Good</td>\n",
       "      <td>809.98</td>\n",
       "      <td>24.797347</td>\n",
       "      <td>22 Years and 5 Months</td>\n",
       "      <td>No</td>\n",
       "      <td>49.574949</td>\n",
       "      <td>41.420153086217326</td>\n",
       "      <td>High_spent_Medium_value_payments</td>\n",
       "      <td>341.48923103222177</td>\n",
       "      <td>Good</td>\n",
       "    </tr>\n",
       "  </tbody>\n",
       "</table>\n",
       "<p>5 rows × 28 columns</p>\n",
       "</div>"
      ],
      "text/plain": [
       "       ID Customer_ID     Month           Name   Age          SSN Occupation  \\\n",
       "0  0x1602   CUS_0xd40   January  Aaron Maashoh    23  821-00-0265  Scientist   \n",
       "1  0x1603   CUS_0xd40  February  Aaron Maashoh    23  821-00-0265  Scientist   \n",
       "2  0x1604   CUS_0xd40     March  Aaron Maashoh  -500  821-00-0265  Scientist   \n",
       "3  0x1605   CUS_0xd40     April  Aaron Maashoh    23  821-00-0265  Scientist   \n",
       "4  0x1606   CUS_0xd40       May  Aaron Maashoh    23  821-00-0265  Scientist   \n",
       "\n",
       "  Annual_Income  Monthly_Inhand_Salary  Num_Bank_Accounts  ...  Credit_Mix  \\\n",
       "0      19114.12            1824.843333                  3  ...           _   \n",
       "1      19114.12                    NaN                  3  ...        Good   \n",
       "2      19114.12                    NaN                  3  ...        Good   \n",
       "3      19114.12                    NaN                  3  ...        Good   \n",
       "4      19114.12            1824.843333                  3  ...        Good   \n",
       "\n",
       "   Outstanding_Debt Credit_Utilization_Ratio     Credit_History_Age  \\\n",
       "0            809.98                26.822620  22 Years and 1 Months   \n",
       "1            809.98                31.944960                    NaN   \n",
       "2            809.98                28.609352  22 Years and 3 Months   \n",
       "3            809.98                31.377862  22 Years and 4 Months   \n",
       "4            809.98                24.797347  22 Years and 5 Months   \n",
       "\n",
       "   Payment_of_Min_Amount Total_EMI_per_month Amount_invested_monthly  \\\n",
       "0                     No           49.574949       80.41529543900253   \n",
       "1                     No           49.574949      118.28022162236736   \n",
       "2                     No           49.574949         81.699521264648   \n",
       "3                     No           49.574949       199.4580743910713   \n",
       "4                     No           49.574949      41.420153086217326   \n",
       "\n",
       "                  Payment_Behaviour     Monthly_Balance Credit_Score  \n",
       "0   High_spent_Small_value_payments  312.49408867943663         Good  \n",
       "1    Low_spent_Large_value_payments  284.62916249607184         Good  \n",
       "2   Low_spent_Medium_value_payments   331.2098628537912         Good  \n",
       "3    Low_spent_Small_value_payments  223.45130972736786         Good  \n",
       "4  High_spent_Medium_value_payments  341.48923103222177         Good  \n",
       "\n",
       "[5 rows x 28 columns]"
      ]
     },
     "execution_count": 14,
     "metadata": {},
     "output_type": "execute_result"
    }
   ],
   "source": [
    "train_data.head()"
   ]
  },
  {
   "cell_type": "code",
   "execution_count": 15,
   "id": "9e803055",
   "metadata": {},
   "outputs": [
    {
     "data": {
      "text/html": [
       "<div>\n",
       "<style scoped>\n",
       "    .dataframe tbody tr th:only-of-type {\n",
       "        vertical-align: middle;\n",
       "    }\n",
       "\n",
       "    .dataframe tbody tr th {\n",
       "        vertical-align: top;\n",
       "    }\n",
       "\n",
       "    .dataframe thead th {\n",
       "        text-align: right;\n",
       "    }\n",
       "</style>\n",
       "<table border=\"1\" class=\"dataframe\">\n",
       "  <thead>\n",
       "    <tr style=\"text-align: right;\">\n",
       "      <th></th>\n",
       "      <th>ID</th>\n",
       "      <th>Customer_ID</th>\n",
       "      <th>Month</th>\n",
       "      <th>Name</th>\n",
       "      <th>Age</th>\n",
       "      <th>SSN</th>\n",
       "      <th>Occupation</th>\n",
       "      <th>Annual_Income</th>\n",
       "      <th>Monthly_Inhand_Salary</th>\n",
       "      <th>Num_Bank_Accounts</th>\n",
       "      <th>...</th>\n",
       "      <th>Credit_Mix</th>\n",
       "      <th>Outstanding_Debt</th>\n",
       "      <th>Credit_Utilization_Ratio</th>\n",
       "      <th>Credit_History_Age</th>\n",
       "      <th>Payment_of_Min_Amount</th>\n",
       "      <th>Total_EMI_per_month</th>\n",
       "      <th>Amount_invested_monthly</th>\n",
       "      <th>Payment_Behaviour</th>\n",
       "      <th>Monthly_Balance</th>\n",
       "      <th>Credit_Score</th>\n",
       "    </tr>\n",
       "  </thead>\n",
       "  <tbody>\n",
       "    <tr>\n",
       "      <th>0</th>\n",
       "      <td>0x1602</td>\n",
       "      <td>CUS_0xd40</td>\n",
       "      <td>January</td>\n",
       "      <td>Aaron Maashoh</td>\n",
       "      <td>23</td>\n",
       "      <td>821-00-0265</td>\n",
       "      <td>Scientist</td>\n",
       "      <td>19114.12</td>\n",
       "      <td>1824.843333</td>\n",
       "      <td>3</td>\n",
       "      <td>...</td>\n",
       "      <td>_</td>\n",
       "      <td>809.98</td>\n",
       "      <td>26.822620</td>\n",
       "      <td>22 Years and 1 Months</td>\n",
       "      <td>No</td>\n",
       "      <td>49.574949</td>\n",
       "      <td>80.41529543900253</td>\n",
       "      <td>High_spent_Small_value_payments</td>\n",
       "      <td>312.49408867943663</td>\n",
       "      <td>Good</td>\n",
       "    </tr>\n",
       "    <tr>\n",
       "      <th>1</th>\n",
       "      <td>0x1603</td>\n",
       "      <td>CUS_0xd40</td>\n",
       "      <td>February</td>\n",
       "      <td>Aaron Maashoh</td>\n",
       "      <td>23</td>\n",
       "      <td>821-00-0265</td>\n",
       "      <td>Scientist</td>\n",
       "      <td>19114.12</td>\n",
       "      <td>NaN</td>\n",
       "      <td>3</td>\n",
       "      <td>...</td>\n",
       "      <td>Good</td>\n",
       "      <td>809.98</td>\n",
       "      <td>31.944960</td>\n",
       "      <td>NaN</td>\n",
       "      <td>No</td>\n",
       "      <td>49.574949</td>\n",
       "      <td>118.28022162236736</td>\n",
       "      <td>Low_spent_Large_value_payments</td>\n",
       "      <td>284.62916249607184</td>\n",
       "      <td>Good</td>\n",
       "    </tr>\n",
       "    <tr>\n",
       "      <th>2</th>\n",
       "      <td>0x1604</td>\n",
       "      <td>CUS_0xd40</td>\n",
       "      <td>March</td>\n",
       "      <td>Aaron Maashoh</td>\n",
       "      <td>-500</td>\n",
       "      <td>821-00-0265</td>\n",
       "      <td>Scientist</td>\n",
       "      <td>19114.12</td>\n",
       "      <td>NaN</td>\n",
       "      <td>3</td>\n",
       "      <td>...</td>\n",
       "      <td>Good</td>\n",
       "      <td>809.98</td>\n",
       "      <td>28.609352</td>\n",
       "      <td>22 Years and 3 Months</td>\n",
       "      <td>No</td>\n",
       "      <td>49.574949</td>\n",
       "      <td>81.699521264648</td>\n",
       "      <td>Low_spent_Medium_value_payments</td>\n",
       "      <td>331.2098628537912</td>\n",
       "      <td>Good</td>\n",
       "    </tr>\n",
       "    <tr>\n",
       "      <th>3</th>\n",
       "      <td>0x1605</td>\n",
       "      <td>CUS_0xd40</td>\n",
       "      <td>April</td>\n",
       "      <td>Aaron Maashoh</td>\n",
       "      <td>23</td>\n",
       "      <td>821-00-0265</td>\n",
       "      <td>Scientist</td>\n",
       "      <td>19114.12</td>\n",
       "      <td>NaN</td>\n",
       "      <td>3</td>\n",
       "      <td>...</td>\n",
       "      <td>Good</td>\n",
       "      <td>809.98</td>\n",
       "      <td>31.377862</td>\n",
       "      <td>22 Years and 4 Months</td>\n",
       "      <td>No</td>\n",
       "      <td>49.574949</td>\n",
       "      <td>199.4580743910713</td>\n",
       "      <td>Low_spent_Small_value_payments</td>\n",
       "      <td>223.45130972736786</td>\n",
       "      <td>Good</td>\n",
       "    </tr>\n",
       "    <tr>\n",
       "      <th>4</th>\n",
       "      <td>0x1606</td>\n",
       "      <td>CUS_0xd40</td>\n",
       "      <td>May</td>\n",
       "      <td>Aaron Maashoh</td>\n",
       "      <td>23</td>\n",
       "      <td>821-00-0265</td>\n",
       "      <td>Scientist</td>\n",
       "      <td>19114.12</td>\n",
       "      <td>1824.843333</td>\n",
       "      <td>3</td>\n",
       "      <td>...</td>\n",
       "      <td>Good</td>\n",
       "      <td>809.98</td>\n",
       "      <td>24.797347</td>\n",
       "      <td>22 Years and 5 Months</td>\n",
       "      <td>No</td>\n",
       "      <td>49.574949</td>\n",
       "      <td>41.420153086217326</td>\n",
       "      <td>High_spent_Medium_value_payments</td>\n",
       "      <td>341.48923103222177</td>\n",
       "      <td>Good</td>\n",
       "    </tr>\n",
       "    <tr>\n",
       "      <th>5</th>\n",
       "      <td>0x1607</td>\n",
       "      <td>CUS_0xd40</td>\n",
       "      <td>June</td>\n",
       "      <td>Aaron Maashoh</td>\n",
       "      <td>23</td>\n",
       "      <td>821-00-0265</td>\n",
       "      <td>Scientist</td>\n",
       "      <td>19114.12</td>\n",
       "      <td>NaN</td>\n",
       "      <td>3</td>\n",
       "      <td>...</td>\n",
       "      <td>Good</td>\n",
       "      <td>809.98</td>\n",
       "      <td>27.262259</td>\n",
       "      <td>22 Years and 6 Months</td>\n",
       "      <td>No</td>\n",
       "      <td>49.574949</td>\n",
       "      <td>62.430172331195294</td>\n",
       "      <td>!@9#%8</td>\n",
       "      <td>340.4792117872438</td>\n",
       "      <td>Good</td>\n",
       "    </tr>\n",
       "    <tr>\n",
       "      <th>6</th>\n",
       "      <td>0x1608</td>\n",
       "      <td>CUS_0xd40</td>\n",
       "      <td>July</td>\n",
       "      <td>Aaron Maashoh</td>\n",
       "      <td>23</td>\n",
       "      <td>821-00-0265</td>\n",
       "      <td>Scientist</td>\n",
       "      <td>19114.12</td>\n",
       "      <td>1824.843333</td>\n",
       "      <td>3</td>\n",
       "      <td>...</td>\n",
       "      <td>Good</td>\n",
       "      <td>809.98</td>\n",
       "      <td>22.537593</td>\n",
       "      <td>22 Years and 7 Months</td>\n",
       "      <td>No</td>\n",
       "      <td>49.574949</td>\n",
       "      <td>178.3440674122349</td>\n",
       "      <td>Low_spent_Small_value_payments</td>\n",
       "      <td>244.5653167062043</td>\n",
       "      <td>Good</td>\n",
       "    </tr>\n",
       "    <tr>\n",
       "      <th>7</th>\n",
       "      <td>0x1609</td>\n",
       "      <td>CUS_0xd40</td>\n",
       "      <td>August</td>\n",
       "      <td>NaN</td>\n",
       "      <td>23</td>\n",
       "      <td>#F%$D@*&amp;8</td>\n",
       "      <td>Scientist</td>\n",
       "      <td>19114.12</td>\n",
       "      <td>1824.843333</td>\n",
       "      <td>3</td>\n",
       "      <td>...</td>\n",
       "      <td>Good</td>\n",
       "      <td>809.98</td>\n",
       "      <td>23.933795</td>\n",
       "      <td>NaN</td>\n",
       "      <td>No</td>\n",
       "      <td>49.574949</td>\n",
       "      <td>24.785216509052056</td>\n",
       "      <td>High_spent_Medium_value_payments</td>\n",
       "      <td>358.12416760938714</td>\n",
       "      <td>Standard</td>\n",
       "    </tr>\n",
       "  </tbody>\n",
       "</table>\n",
       "<p>8 rows × 28 columns</p>\n",
       "</div>"
      ],
      "text/plain": [
       "       ID Customer_ID     Month           Name   Age          SSN Occupation  \\\n",
       "0  0x1602   CUS_0xd40   January  Aaron Maashoh    23  821-00-0265  Scientist   \n",
       "1  0x1603   CUS_0xd40  February  Aaron Maashoh    23  821-00-0265  Scientist   \n",
       "2  0x1604   CUS_0xd40     March  Aaron Maashoh  -500  821-00-0265  Scientist   \n",
       "3  0x1605   CUS_0xd40     April  Aaron Maashoh    23  821-00-0265  Scientist   \n",
       "4  0x1606   CUS_0xd40       May  Aaron Maashoh    23  821-00-0265  Scientist   \n",
       "5  0x1607   CUS_0xd40      June  Aaron Maashoh    23  821-00-0265  Scientist   \n",
       "6  0x1608   CUS_0xd40      July  Aaron Maashoh    23  821-00-0265  Scientist   \n",
       "7  0x1609   CUS_0xd40    August            NaN    23    #F%$D@*&8  Scientist   \n",
       "\n",
       "  Annual_Income  Monthly_Inhand_Salary  Num_Bank_Accounts  ...  Credit_Mix  \\\n",
       "0      19114.12            1824.843333                  3  ...           _   \n",
       "1      19114.12                    NaN                  3  ...        Good   \n",
       "2      19114.12                    NaN                  3  ...        Good   \n",
       "3      19114.12                    NaN                  3  ...        Good   \n",
       "4      19114.12            1824.843333                  3  ...        Good   \n",
       "5      19114.12                    NaN                  3  ...        Good   \n",
       "6      19114.12            1824.843333                  3  ...        Good   \n",
       "7      19114.12            1824.843333                  3  ...        Good   \n",
       "\n",
       "   Outstanding_Debt Credit_Utilization_Ratio     Credit_History_Age  \\\n",
       "0            809.98                26.822620  22 Years and 1 Months   \n",
       "1            809.98                31.944960                    NaN   \n",
       "2            809.98                28.609352  22 Years and 3 Months   \n",
       "3            809.98                31.377862  22 Years and 4 Months   \n",
       "4            809.98                24.797347  22 Years and 5 Months   \n",
       "5            809.98                27.262259  22 Years and 6 Months   \n",
       "6            809.98                22.537593  22 Years and 7 Months   \n",
       "7            809.98                23.933795                    NaN   \n",
       "\n",
       "   Payment_of_Min_Amount Total_EMI_per_month Amount_invested_monthly  \\\n",
       "0                     No           49.574949       80.41529543900253   \n",
       "1                     No           49.574949      118.28022162236736   \n",
       "2                     No           49.574949         81.699521264648   \n",
       "3                     No           49.574949       199.4580743910713   \n",
       "4                     No           49.574949      41.420153086217326   \n",
       "5                     No           49.574949      62.430172331195294   \n",
       "6                     No           49.574949       178.3440674122349   \n",
       "7                     No           49.574949      24.785216509052056   \n",
       "\n",
       "                  Payment_Behaviour     Monthly_Balance Credit_Score  \n",
       "0   High_spent_Small_value_payments  312.49408867943663         Good  \n",
       "1    Low_spent_Large_value_payments  284.62916249607184         Good  \n",
       "2   Low_spent_Medium_value_payments   331.2098628537912         Good  \n",
       "3    Low_spent_Small_value_payments  223.45130972736786         Good  \n",
       "4  High_spent_Medium_value_payments  341.48923103222177         Good  \n",
       "5                            !@9#%8   340.4792117872438         Good  \n",
       "6    Low_spent_Small_value_payments   244.5653167062043         Good  \n",
       "7  High_spent_Medium_value_payments  358.12416760938714     Standard  \n",
       "\n",
       "[8 rows x 28 columns]"
      ]
     },
     "execution_count": 15,
     "metadata": {},
     "output_type": "execute_result"
    }
   ],
   "source": [
    "train_data[train_data['Customer_ID']=='CUS_0xd40']"
   ]
  },
  {
   "cell_type": "code",
   "execution_count": 16,
   "id": "b24a306d",
   "metadata": {},
   "outputs": [
    {
     "data": {
      "text/plain": [
       "'\\nData reflects Customer-Month wise credit score report. \\nIf any missing values, we can fill by the details of Customer. \\n'"
      ]
     },
     "execution_count": 16,
     "metadata": {},
     "output_type": "execute_result"
    }
   ],
   "source": [
    "# Data Understanding So far:\n",
    "\"\"\"\n",
    "Data reflects Customer-Month wise credit score report. \n",
    "If any missing values, we can fill by the details of Customer. \n",
    "\"\"\""
   ]
  },
  {
   "cell_type": "markdown",
   "id": "9d4c60e2",
   "metadata": {},
   "source": [
    "# Data Cleaning"
   ]
  },
  {
   "cell_type": "code",
   "execution_count": 17,
   "id": "bd6b0681",
   "metadata": {},
   "outputs": [
    {
     "data": {
      "text/plain": [
       "January     12500\n",
       "February    12500\n",
       "March       12500\n",
       "April       12500\n",
       "May         12500\n",
       "June        12500\n",
       "July        12500\n",
       "August      12500\n",
       "Name: Month, dtype: int64"
      ]
     },
     "execution_count": 17,
     "metadata": {},
     "output_type": "execute_result"
    }
   ],
   "source": [
    "train_data['Month'].value_counts()"
   ]
  },
  {
   "cell_type": "code",
   "execution_count": 18,
   "id": "dd360548",
   "metadata": {},
   "outputs": [
    {
     "data": {
      "text/plain": [
       "_______          7062\n",
       "Lawyer           6575\n",
       "Architect        6355\n",
       "Engineer         6350\n",
       "Scientist        6299\n",
       "Mechanic         6291\n",
       "Accountant       6271\n",
       "Developer        6235\n",
       "Media_Manager    6232\n",
       "Teacher          6215\n",
       "Entrepreneur     6174\n",
       "Doctor           6087\n",
       "Journalist       6085\n",
       "Manager          5973\n",
       "Musician         5911\n",
       "Writer           5885\n",
       "Name: Occupation, dtype: int64"
      ]
     },
     "execution_count": 18,
     "metadata": {},
     "output_type": "execute_result"
    }
   ],
   "source": [
    "train_data['Occupation'].value_counts()"
   ]
  },
  {
   "cell_type": "code",
   "execution_count": 19,
   "id": "dc27d407",
   "metadata": {},
   "outputs": [],
   "source": [
    "train_data['Age'] = train_data['Age'].apply(lambda x:re.findall(r'\\d+',x)[0])"
   ]
  },
  {
   "cell_type": "code",
   "execution_count": 20,
   "id": "f4124a33",
   "metadata": {},
   "outputs": [],
   "source": [
    "train_data['Age'] = train_data['Age'].astype('int')"
   ]
  },
  {
   "cell_type": "code",
   "execution_count": 21,
   "id": "56afc595",
   "metadata": {},
   "outputs": [
    {
     "data": {
      "text/plain": [
       "0.50      34.00\n",
       "0.70      41.00\n",
       "0.90      50.00\n",
       "0.95      54.00\n",
       "0.99    4112.07\n",
       "Name: Age, dtype: float64"
      ]
     },
     "execution_count": 21,
     "metadata": {},
     "output_type": "execute_result"
    }
   ],
   "source": [
    "train_data['Age'].quantile([0.5,0.7,0.9, 0.95, 0.99])"
   ]
  },
  {
   "cell_type": "code",
   "execution_count": 22,
   "id": "28bf119a",
   "metadata": {},
   "outputs": [],
   "source": [
    "train_occupation = train_data.groupby(['Customer_ID'])['Occupation'].apply(mode, keepdims=False).reset_index()\n",
    "train_occupation['Occupation'] = train_occupation['Occupation'].apply(lambda x:x.mode)"
   ]
  },
  {
   "cell_type": "code",
   "execution_count": 23,
   "id": "81f93495",
   "metadata": {},
   "outputs": [],
   "source": [
    "cust_IDs = train_occupation[train_occupation['Occupation']=='_______']['Customer_ID'].values.tolist()"
   ]
  },
  {
   "cell_type": "code",
   "execution_count": 24,
   "id": "c833d28e",
   "metadata": {},
   "outputs": [],
   "source": [
    "cust_IDS_occ = {}\n",
    "for c_id in cust_IDs:\n",
    "    if c_id=='CUS_0x9e67':\n",
    "        occ = 'Media_Manager'\n",
    "    else:\n",
    "        occ = train_data[train_data['Customer_ID']==c_id]['Occupation'].mode().values[0]\n",
    "    cust_IDS_occ[c_id] = [occ]"
   ]
  },
  {
   "cell_type": "code",
   "execution_count": 25,
   "id": "bb196f11",
   "metadata": {},
   "outputs": [],
   "source": [
    "cust_ID_occ_df = pd.DataFrame(cust_IDS_occ).T.reset_index()"
   ]
  },
  {
   "cell_type": "code",
   "execution_count": 26,
   "id": "1ee8462c",
   "metadata": {},
   "outputs": [],
   "source": [
    "cust_ID_occ_df.columns = ['Customer_ID','OCC_2']"
   ]
  },
  {
   "cell_type": "code",
   "execution_count": 27,
   "id": "0a302525",
   "metadata": {},
   "outputs": [],
   "source": [
    "train_occupation.rename(columns={'Occupation':'OCC_1'}, inplace=True)\n",
    "train_data_o = pd.merge(train_data, train_occupation, on='Customer_ID', how='left')\n",
    "train_data_o = pd.merge(train_data_o, cust_ID_occ_df, on='Customer_ID', how='left' )"
   ]
  },
  {
   "cell_type": "code",
   "execution_count": 28,
   "id": "f70aec2b",
   "metadata": {},
   "outputs": [],
   "source": [
    "train_data_o['Occupation_filled'] = np.where(train_data_o['Occupation']=='_______',train_data_o['OCC_1'], train_data_o['Occupation'])\n",
    "train_data_o['Occupation_filled'] = np.where(train_data_o['Occupation_filled']=='_______',train_data_o['OCC_2'], train_data_o['Occupation_filled'])"
   ]
  },
  {
   "cell_type": "code",
   "execution_count": 29,
   "id": "a92da827",
   "metadata": {},
   "outputs": [
    {
     "data": {
      "text/plain": [
       "Lawyer           7096\n",
       "Engineer         6864\n",
       "Architect        6824\n",
       "Mechanic         6776\n",
       "Scientist        6744\n",
       "Accountant       6744\n",
       "Developer        6720\n",
       "Media_Manager    6720\n",
       "Teacher          6672\n",
       "Entrepreneur     6648\n",
       "Doctor           6568\n",
       "Journalist       6536\n",
       "Manager          6432\n",
       "Musician         6352\n",
       "Writer           6304\n",
       "Name: Occupation_filled, dtype: int64"
      ]
     },
     "execution_count": 29,
     "metadata": {},
     "output_type": "execute_result"
    }
   ],
   "source": [
    "train_data_o['Occupation_filled'].value_counts()"
   ]
  },
  {
   "cell_type": "code",
   "execution_count": 30,
   "id": "27295a7d",
   "metadata": {},
   "outputs": [],
   "source": [
    "train_data_o.drop(['Occupation','OCC_1','OCC_2'], axis=1, inplace=True)"
   ]
  },
  {
   "cell_type": "code",
   "execution_count": 31,
   "id": "e07985b4",
   "metadata": {},
   "outputs": [
    {
     "data": {
      "text/html": [
       "<div>\n",
       "<style scoped>\n",
       "    .dataframe tbody tr th:only-of-type {\n",
       "        vertical-align: middle;\n",
       "    }\n",
       "\n",
       "    .dataframe tbody tr th {\n",
       "        vertical-align: top;\n",
       "    }\n",
       "\n",
       "    .dataframe thead th {\n",
       "        text-align: right;\n",
       "    }\n",
       "</style>\n",
       "<table border=\"1\" class=\"dataframe\">\n",
       "  <thead>\n",
       "    <tr style=\"text-align: right;\">\n",
       "      <th></th>\n",
       "      <th>ID</th>\n",
       "      <th>Customer_ID</th>\n",
       "      <th>Month</th>\n",
       "      <th>Name</th>\n",
       "      <th>Age</th>\n",
       "      <th>SSN</th>\n",
       "      <th>Occupation</th>\n",
       "      <th>Annual_Income</th>\n",
       "      <th>Monthly_Inhand_Salary</th>\n",
       "      <th>Num_Bank_Accounts</th>\n",
       "      <th>...</th>\n",
       "      <th>Credit_Mix</th>\n",
       "      <th>Outstanding_Debt</th>\n",
       "      <th>Credit_Utilization_Ratio</th>\n",
       "      <th>Credit_History_Age</th>\n",
       "      <th>Payment_of_Min_Amount</th>\n",
       "      <th>Total_EMI_per_month</th>\n",
       "      <th>Amount_invested_monthly</th>\n",
       "      <th>Payment_Behaviour</th>\n",
       "      <th>Monthly_Balance</th>\n",
       "      <th>Credit_Score</th>\n",
       "    </tr>\n",
       "  </thead>\n",
       "  <tbody>\n",
       "    <tr>\n",
       "      <th>93280</th>\n",
       "      <td>0x23892</td>\n",
       "      <td>CUS_0x9e67</td>\n",
       "      <td>January</td>\n",
       "      <td>Marias</td>\n",
       "      <td>24</td>\n",
       "      <td>366-87-4584</td>\n",
       "      <td>_______</td>\n",
       "      <td>44393.86</td>\n",
       "      <td>3504.488333</td>\n",
       "      <td>6</td>\n",
       "      <td>...</td>\n",
       "      <td>_</td>\n",
       "      <td>1270.97</td>\n",
       "      <td>37.328326</td>\n",
       "      <td>NaN</td>\n",
       "      <td>Yes</td>\n",
       "      <td>63.794335</td>\n",
       "      <td>91.47043380118635</td>\n",
       "      <td>High_spent_Medium_value_payments</td>\n",
       "      <td>445.1840640677529</td>\n",
       "      <td>Standard</td>\n",
       "    </tr>\n",
       "    <tr>\n",
       "      <th>93281</th>\n",
       "      <td>0x23893</td>\n",
       "      <td>CUS_0x9e67</td>\n",
       "      <td>February</td>\n",
       "      <td>NaN</td>\n",
       "      <td>24</td>\n",
       "      <td>366-87-4584</td>\n",
       "      <td>Media_Manager</td>\n",
       "      <td>44393.86</td>\n",
       "      <td>NaN</td>\n",
       "      <td>6</td>\n",
       "      <td>...</td>\n",
       "      <td>Standard</td>\n",
       "      <td>1270.97</td>\n",
       "      <td>38.288971</td>\n",
       "      <td>20 Years and 4 Months</td>\n",
       "      <td>Yes</td>\n",
       "      <td>63.794335</td>\n",
       "      <td>48.74251133681211</td>\n",
       "      <td>High_spent_Large_value_payments</td>\n",
       "      <td>477.9119865321272</td>\n",
       "      <td>Standard</td>\n",
       "    </tr>\n",
       "    <tr>\n",
       "      <th>93282</th>\n",
       "      <td>0x23894</td>\n",
       "      <td>CUS_0x9e67</td>\n",
       "      <td>March</td>\n",
       "      <td>Marias</td>\n",
       "      <td>24</td>\n",
       "      <td>366-87-4584</td>\n",
       "      <td>_______</td>\n",
       "      <td>44393.86_</td>\n",
       "      <td>3504.488333</td>\n",
       "      <td>6</td>\n",
       "      <td>...</td>\n",
       "      <td>_</td>\n",
       "      <td>1270.97</td>\n",
       "      <td>29.115904</td>\n",
       "      <td>20 Years and 5 Months</td>\n",
       "      <td>Yes</td>\n",
       "      <td>63.794335</td>\n",
       "      <td>73.10076082927787</td>\n",
       "      <td>High_spent_Medium_value_payments</td>\n",
       "      <td>463.5537370396614</td>\n",
       "      <td>Standard</td>\n",
       "    </tr>\n",
       "    <tr>\n",
       "      <th>93283</th>\n",
       "      <td>0x23895</td>\n",
       "      <td>CUS_0x9e67</td>\n",
       "      <td>April</td>\n",
       "      <td>Marias</td>\n",
       "      <td>24</td>\n",
       "      <td>366-87-4584</td>\n",
       "      <td>_______</td>\n",
       "      <td>44393.86</td>\n",
       "      <td>3504.488333</td>\n",
       "      <td>6</td>\n",
       "      <td>...</td>\n",
       "      <td>_</td>\n",
       "      <td>1270.97</td>\n",
       "      <td>27.476836</td>\n",
       "      <td>NaN</td>\n",
       "      <td>Yes</td>\n",
       "      <td>63.794335</td>\n",
       "      <td>218.8494789557392</td>\n",
       "      <td>Low_spent_Small_value_payments</td>\n",
       "      <td>357.8050189132002</td>\n",
       "      <td>Standard</td>\n",
       "    </tr>\n",
       "    <tr>\n",
       "      <th>93284</th>\n",
       "      <td>0x23896</td>\n",
       "      <td>CUS_0x9e67</td>\n",
       "      <td>May</td>\n",
       "      <td>NaN</td>\n",
       "      <td>24</td>\n",
       "      <td>366-87-4584</td>\n",
       "      <td>_______</td>\n",
       "      <td>44393.86</td>\n",
       "      <td>3504.488333</td>\n",
       "      <td>6</td>\n",
       "      <td>...</td>\n",
       "      <td>Standard</td>\n",
       "      <td>1270.97</td>\n",
       "      <td>25.366794</td>\n",
       "      <td>20 Years and 7 Months</td>\n",
       "      <td>Yes</td>\n",
       "      <td>63.794335</td>\n",
       "      <td>129.96478872285044</td>\n",
       "      <td>Low_spent_Large_value_payments</td>\n",
       "      <td>426.6897091460888</td>\n",
       "      <td>Poor</td>\n",
       "    </tr>\n",
       "    <tr>\n",
       "      <th>93285</th>\n",
       "      <td>0x23897</td>\n",
       "      <td>CUS_0x9e67</td>\n",
       "      <td>June</td>\n",
       "      <td>Marias</td>\n",
       "      <td>24</td>\n",
       "      <td>366-87-4584</td>\n",
       "      <td>Media_Manager</td>\n",
       "      <td>44393.86</td>\n",
       "      <td>NaN</td>\n",
       "      <td>6</td>\n",
       "      <td>...</td>\n",
       "      <td>_</td>\n",
       "      <td>1270.97</td>\n",
       "      <td>39.860247</td>\n",
       "      <td>20 Years and 8 Months</td>\n",
       "      <td>Yes</td>\n",
       "      <td>63.794335</td>\n",
       "      <td>182.15844474347492</td>\n",
       "      <td>High_spent_Small_value_payments</td>\n",
       "      <td>364.4960531254644</td>\n",
       "      <td>Standard</td>\n",
       "    </tr>\n",
       "    <tr>\n",
       "      <th>93286</th>\n",
       "      <td>0x23898</td>\n",
       "      <td>CUS_0x9e67</td>\n",
       "      <td>July</td>\n",
       "      <td>Marias</td>\n",
       "      <td>24</td>\n",
       "      <td>366-87-4584</td>\n",
       "      <td>_______</td>\n",
       "      <td>44393.86</td>\n",
       "      <td>3504.488333</td>\n",
       "      <td>6</td>\n",
       "      <td>...</td>\n",
       "      <td>Standard</td>\n",
       "      <td>1270.97</td>\n",
       "      <td>33.895918</td>\n",
       "      <td>20 Years and 9 Months</td>\n",
       "      <td>Yes</td>\n",
       "      <td>63.794335</td>\n",
       "      <td>430.17172880535406</td>\n",
       "      <td>Low_spent_Small_value_payments</td>\n",
       "      <td>146.48276906358524</td>\n",
       "      <td>Poor</td>\n",
       "    </tr>\n",
       "    <tr>\n",
       "      <th>93287</th>\n",
       "      <td>0x23899</td>\n",
       "      <td>CUS_0x9e67</td>\n",
       "      <td>August</td>\n",
       "      <td>Marias</td>\n",
       "      <td>25</td>\n",
       "      <td>366-87-4584</td>\n",
       "      <td>Media_Manager</td>\n",
       "      <td>44393.86</td>\n",
       "      <td>3504.488333</td>\n",
       "      <td>6</td>\n",
       "      <td>...</td>\n",
       "      <td>Standard</td>\n",
       "      <td>1270.97</td>\n",
       "      <td>30.145633</td>\n",
       "      <td>20 Years and 10 Months</td>\n",
       "      <td>Yes</td>\n",
       "      <td>63.794335</td>\n",
       "      <td>73.09873138982826</td>\n",
       "      <td>High_spent_Medium_value_payments</td>\n",
       "      <td>463.55576647911107</td>\n",
       "      <td>Poor</td>\n",
       "    </tr>\n",
       "  </tbody>\n",
       "</table>\n",
       "<p>8 rows × 28 columns</p>\n",
       "</div>"
      ],
      "text/plain": [
       "            ID Customer_ID     Month    Name  Age          SSN     Occupation  \\\n",
       "93280  0x23892  CUS_0x9e67   January  Marias   24  366-87-4584        _______   \n",
       "93281  0x23893  CUS_0x9e67  February     NaN   24  366-87-4584  Media_Manager   \n",
       "93282  0x23894  CUS_0x9e67     March  Marias   24  366-87-4584        _______   \n",
       "93283  0x23895  CUS_0x9e67     April  Marias   24  366-87-4584        _______   \n",
       "93284  0x23896  CUS_0x9e67       May     NaN   24  366-87-4584        _______   \n",
       "93285  0x23897  CUS_0x9e67      June  Marias   24  366-87-4584  Media_Manager   \n",
       "93286  0x23898  CUS_0x9e67      July  Marias   24  366-87-4584        _______   \n",
       "93287  0x23899  CUS_0x9e67    August  Marias   25  366-87-4584  Media_Manager   \n",
       "\n",
       "      Annual_Income  Monthly_Inhand_Salary  Num_Bank_Accounts  ...  \\\n",
       "93280      44393.86            3504.488333                  6  ...   \n",
       "93281      44393.86                    NaN                  6  ...   \n",
       "93282     44393.86_            3504.488333                  6  ...   \n",
       "93283      44393.86            3504.488333                  6  ...   \n",
       "93284      44393.86            3504.488333                  6  ...   \n",
       "93285      44393.86                    NaN                  6  ...   \n",
       "93286      44393.86            3504.488333                  6  ...   \n",
       "93287      44393.86            3504.488333                  6  ...   \n",
       "\n",
       "       Credit_Mix  Outstanding_Debt Credit_Utilization_Ratio  \\\n",
       "93280           _           1270.97                37.328326   \n",
       "93281    Standard           1270.97                38.288971   \n",
       "93282           _           1270.97                29.115904   \n",
       "93283           _           1270.97                27.476836   \n",
       "93284    Standard           1270.97                25.366794   \n",
       "93285           _           1270.97                39.860247   \n",
       "93286    Standard           1270.97                33.895918   \n",
       "93287    Standard           1270.97                30.145633   \n",
       "\n",
       "           Credit_History_Age  Payment_of_Min_Amount Total_EMI_per_month  \\\n",
       "93280                     NaN                    Yes           63.794335   \n",
       "93281   20 Years and 4 Months                    Yes           63.794335   \n",
       "93282   20 Years and 5 Months                    Yes           63.794335   \n",
       "93283                     NaN                    Yes           63.794335   \n",
       "93284   20 Years and 7 Months                    Yes           63.794335   \n",
       "93285   20 Years and 8 Months                    Yes           63.794335   \n",
       "93286   20 Years and 9 Months                    Yes           63.794335   \n",
       "93287  20 Years and 10 Months                    Yes           63.794335   \n",
       "\n",
       "      Amount_invested_monthly                 Payment_Behaviour  \\\n",
       "93280       91.47043380118635  High_spent_Medium_value_payments   \n",
       "93281       48.74251133681211   High_spent_Large_value_payments   \n",
       "93282       73.10076082927787  High_spent_Medium_value_payments   \n",
       "93283       218.8494789557392    Low_spent_Small_value_payments   \n",
       "93284      129.96478872285044    Low_spent_Large_value_payments   \n",
       "93285      182.15844474347492   High_spent_Small_value_payments   \n",
       "93286      430.17172880535406    Low_spent_Small_value_payments   \n",
       "93287       73.09873138982826  High_spent_Medium_value_payments   \n",
       "\n",
       "          Monthly_Balance Credit_Score  \n",
       "93280   445.1840640677529     Standard  \n",
       "93281   477.9119865321272     Standard  \n",
       "93282   463.5537370396614     Standard  \n",
       "93283   357.8050189132002     Standard  \n",
       "93284   426.6897091460888         Poor  \n",
       "93285   364.4960531254644     Standard  \n",
       "93286  146.48276906358524         Poor  \n",
       "93287  463.55576647911107         Poor  \n",
       "\n",
       "[8 rows x 28 columns]"
      ]
     },
     "execution_count": 31,
     "metadata": {},
     "output_type": "execute_result"
    }
   ],
   "source": [
    "train_data[train_data['Customer_ID']=='CUS_0x9e67']"
   ]
  },
  {
   "cell_type": "code",
   "execution_count": 32,
   "id": "d05a151c",
   "metadata": {},
   "outputs": [
    {
     "data": {
      "text/plain": [
       "'Engineer'"
      ]
     },
     "execution_count": 32,
     "metadata": {},
     "output_type": "execute_result"
    }
   ],
   "source": [
    "train_data[train_data['Customer_ID']=='CUS_0xc2a1']['Occupation'].mode().values[0]"
   ]
  },
  {
   "cell_type": "code",
   "execution_count": 33,
   "id": "4ea5d1e2",
   "metadata": {},
   "outputs": [],
   "source": [
    "train_data_o['Age_Flag'] = np.where(train_data_o['Age']>100, 1, 0)"
   ]
  },
  {
   "cell_type": "code",
   "execution_count": 34,
   "id": "cd2b3763",
   "metadata": {},
   "outputs": [
    {
     "data": {
      "text/plain": [
       "0    97224\n",
       "1     2776\n",
       "Name: Age_Flag, dtype: int64"
      ]
     },
     "execution_count": 34,
     "metadata": {},
     "output_type": "execute_result"
    }
   ],
   "source": [
    "train_data_o['Age_Flag'].value_counts()"
   ]
  },
  {
   "cell_type": "code",
   "execution_count": 35,
   "id": "3e7ba5e1",
   "metadata": {},
   "outputs": [],
   "source": [
    "train_age = train_data_o.groupby(['Customer_ID'])['Age'].apply(mode, keepdims=False).reset_index()\n",
    "train_age['Age'] = train_age['Age'].apply(lambda x:x.mode)"
   ]
  },
  {
   "cell_type": "code",
   "execution_count": 36,
   "id": "db52380f",
   "metadata": {},
   "outputs": [],
   "source": [
    "train_age.rename(columns={'Age':'Age_mode'}, inplace=True)\n",
    "train_data_a = train_data_o.merge(train_age, on='Customer_ID', how='left')"
   ]
  },
  {
   "cell_type": "code",
   "execution_count": 37,
   "id": "51ac87df",
   "metadata": {},
   "outputs": [],
   "source": [
    "train_data_a['Age'] = np.where(train_data_a['Age_Flag']==1, train_data_a['Age_mode'], train_data_a['Age'])"
   ]
  },
  {
   "cell_type": "code",
   "execution_count": 38,
   "id": "de8ae13c",
   "metadata": {},
   "outputs": [
    {
     "data": {
      "text/plain": [
       "<Axes: ylabel='Frequency'>"
      ]
     },
     "execution_count": 38,
     "metadata": {},
     "output_type": "execute_result"
    },
    {
     "data": {
      "image/png": "[encoded data removed]",
      "text/plain": [
       "<Figure size 640x480 with 1 Axes>"
      ]
     },
     "metadata": {},
     "output_type": "display_data"
    }
   ],
   "source": [
    "train_data_a['Age'].plot.hist()"
   ]
  },
  {
   "cell_type": "code",
   "execution_count": 39,
   "id": "68a2ff85",
   "metadata": {},
   "outputs": [
    {
     "data": {
      "text/html": [
       "<div>\n",
       "<style scoped>\n",
       "    .dataframe tbody tr th:only-of-type {\n",
       "        vertical-align: middle;\n",
       "    }\n",
       "\n",
       "    .dataframe tbody tr th {\n",
       "        vertical-align: top;\n",
       "    }\n",
       "\n",
       "    .dataframe thead th {\n",
       "        text-align: right;\n",
       "    }\n",
       "</style>\n",
       "<table border=\"1\" class=\"dataframe\">\n",
       "  <thead>\n",
       "    <tr style=\"text-align: right;\">\n",
       "      <th></th>\n",
       "      <th>ID</th>\n",
       "      <th>Customer_ID</th>\n",
       "      <th>Month</th>\n",
       "      <th>Name</th>\n",
       "      <th>Age</th>\n",
       "      <th>SSN</th>\n",
       "      <th>Annual_Income</th>\n",
       "      <th>Monthly_Inhand_Salary</th>\n",
       "      <th>Num_Bank_Accounts</th>\n",
       "      <th>Num_Credit_Card</th>\n",
       "      <th>...</th>\n",
       "      <th>Credit_History_Age</th>\n",
       "      <th>Payment_of_Min_Amount</th>\n",
       "      <th>Total_EMI_per_month</th>\n",
       "      <th>Amount_invested_monthly</th>\n",
       "      <th>Payment_Behaviour</th>\n",
       "      <th>Monthly_Balance</th>\n",
       "      <th>Credit_Score</th>\n",
       "      <th>Occupation_filled</th>\n",
       "      <th>Age_Flag</th>\n",
       "      <th>Age_mode</th>\n",
       "    </tr>\n",
       "  </thead>\n",
       "  <tbody>\n",
       "    <tr>\n",
       "      <th>408</th>\n",
       "      <td>0x1866</td>\n",
       "      <td>CUS_0xb986</td>\n",
       "      <td>January</td>\n",
       "      <td>Simon Jessope</td>\n",
       "      <td>14</td>\n",
       "      <td>180-88-7800</td>\n",
       "      <td>39887.22</td>\n",
       "      <td>3224.935000</td>\n",
       "      <td>9</td>\n",
       "      <td>9</td>\n",
       "      <td>...</td>\n",
       "      <td>12 Years and 5 Months</td>\n",
       "      <td>Yes</td>\n",
       "      <td>133.470845</td>\n",
       "      <td>198.9967507987873</td>\n",
       "      <td>Low_spent_Medium_value_payments</td>\n",
       "      <td>270.0259039577801</td>\n",
       "      <td>Poor</td>\n",
       "      <td>Developer</td>\n",
       "      <td>0</td>\n",
       "      <td>14</td>\n",
       "    </tr>\n",
       "    <tr>\n",
       "      <th>409</th>\n",
       "      <td>0x1867</td>\n",
       "      <td>CUS_0xb986</td>\n",
       "      <td>February</td>\n",
       "      <td>Simon Jessope</td>\n",
       "      <td>14</td>\n",
       "      <td>180-88-7800</td>\n",
       "      <td>39887.22</td>\n",
       "      <td>3224.935000</td>\n",
       "      <td>9</td>\n",
       "      <td>9</td>\n",
       "      <td>...</td>\n",
       "      <td>12 Years and 6 Months</td>\n",
       "      <td>Yes</td>\n",
       "      <td>133.470845</td>\n",
       "      <td>153.2707254403229</td>\n",
       "      <td>!@9#%8</td>\n",
       "      <td>295.7519293162445</td>\n",
       "      <td>Poor</td>\n",
       "      <td>Developer</td>\n",
       "      <td>0</td>\n",
       "      <td>14</td>\n",
       "    </tr>\n",
       "    <tr>\n",
       "      <th>410</th>\n",
       "      <td>0x1868</td>\n",
       "      <td>CUS_0xb986</td>\n",
       "      <td>March</td>\n",
       "      <td>NaN</td>\n",
       "      <td>14</td>\n",
       "      <td>180-88-7800</td>\n",
       "      <td>39887.22</td>\n",
       "      <td>3224.935000</td>\n",
       "      <td>9</td>\n",
       "      <td>9</td>\n",
       "      <td>...</td>\n",
       "      <td>12 Years and 7 Months</td>\n",
       "      <td>Yes</td>\n",
       "      <td>133.470845</td>\n",
       "      <td>319.49237384558035</td>\n",
       "      <td>Low_spent_Small_value_payments</td>\n",
       "      <td>159.53028091098705</td>\n",
       "      <td>Poor</td>\n",
       "      <td>Developer</td>\n",
       "      <td>0</td>\n",
       "      <td>14</td>\n",
       "    </tr>\n",
       "    <tr>\n",
       "      <th>411</th>\n",
       "      <td>0x1869</td>\n",
       "      <td>CUS_0xb986</td>\n",
       "      <td>April</td>\n",
       "      <td>Simon Jessope</td>\n",
       "      <td>14</td>\n",
       "      <td>180-88-7800</td>\n",
       "      <td>39887.22</td>\n",
       "      <td>3224.935000</td>\n",
       "      <td>9</td>\n",
       "      <td>9</td>\n",
       "      <td>...</td>\n",
       "      <td>12 Years and 8 Months</td>\n",
       "      <td>NM</td>\n",
       "      <td>133.470845</td>\n",
       "      <td>NaN</td>\n",
       "      <td>Low_spent_Small_value_payments</td>\n",
       "      <td>176.93147792084778</td>\n",
       "      <td>Poor</td>\n",
       "      <td>Developer</td>\n",
       "      <td>0</td>\n",
       "      <td>14</td>\n",
       "    </tr>\n",
       "    <tr>\n",
       "      <th>412</th>\n",
       "      <td>0x186a</td>\n",
       "      <td>CUS_0xb986</td>\n",
       "      <td>May</td>\n",
       "      <td>Simon Jessope</td>\n",
       "      <td>14</td>\n",
       "      <td>180-88-7800</td>\n",
       "      <td>39887.22</td>\n",
       "      <td>3224.935000</td>\n",
       "      <td>9</td>\n",
       "      <td>9</td>\n",
       "      <td>...</td>\n",
       "      <td>12 Years and 9 Months</td>\n",
       "      <td>Yes</td>\n",
       "      <td>133.470845</td>\n",
       "      <td>96.09548178258156</td>\n",
       "      <td>High_spent_Medium_value_payments</td>\n",
       "      <td>342.9271729739859</td>\n",
       "      <td>Poor</td>\n",
       "      <td>Developer</td>\n",
       "      <td>0</td>\n",
       "      <td>14</td>\n",
       "    </tr>\n",
       "    <tr>\n",
       "      <th>...</th>\n",
       "      <td>...</td>\n",
       "      <td>...</td>\n",
       "      <td>...</td>\n",
       "      <td>...</td>\n",
       "      <td>...</td>\n",
       "      <td>...</td>\n",
       "      <td>...</td>\n",
       "      <td>...</td>\n",
       "      <td>...</td>\n",
       "      <td>...</td>\n",
       "      <td>...</td>\n",
       "      <td>...</td>\n",
       "      <td>...</td>\n",
       "      <td>...</td>\n",
       "      <td>...</td>\n",
       "      <td>...</td>\n",
       "      <td>...</td>\n",
       "      <td>...</td>\n",
       "      <td>...</td>\n",
       "      <td>...</td>\n",
       "      <td>...</td>\n",
       "    </tr>\n",
       "    <tr>\n",
       "      <th>98051</th>\n",
       "      <td>0x25485</td>\n",
       "      <td>CUS_0x5602</td>\n",
       "      <td>April</td>\n",
       "      <td>James Tophamy</td>\n",
       "      <td>14</td>\n",
       "      <td>878-33-5924</td>\n",
       "      <td>15360.58</td>\n",
       "      <td>NaN</td>\n",
       "      <td>6</td>\n",
       "      <td>9</td>\n",
       "      <td>...</td>\n",
       "      <td>11 Years and 11 Months</td>\n",
       "      <td>Yes</td>\n",
       "      <td>20.753796</td>\n",
       "      <td>100.08450936870008</td>\n",
       "      <td>Low_spent_Small_value_payments</td>\n",
       "      <td>267.2665282537801</td>\n",
       "      <td>Poor</td>\n",
       "      <td>Writer</td>\n",
       "      <td>0</td>\n",
       "      <td>14</td>\n",
       "    </tr>\n",
       "    <tr>\n",
       "      <th>98052</th>\n",
       "      <td>0x25486</td>\n",
       "      <td>CUS_0x5602</td>\n",
       "      <td>May</td>\n",
       "      <td>James Tophamy</td>\n",
       "      <td>14</td>\n",
       "      <td>878-33-5924</td>\n",
       "      <td>15360.58</td>\n",
       "      <td>981.048333</td>\n",
       "      <td>6</td>\n",
       "      <td>9</td>\n",
       "      <td>...</td>\n",
       "      <td>12 Years and 0 Months</td>\n",
       "      <td>Yes</td>\n",
       "      <td>20.753796</td>\n",
       "      <td>99.01106230828873</td>\n",
       "      <td>Low_spent_Small_value_payments</td>\n",
       "      <td>268.3399753141914</td>\n",
       "      <td>Poor</td>\n",
       "      <td>Writer</td>\n",
       "      <td>0</td>\n",
       "      <td>14</td>\n",
       "    </tr>\n",
       "    <tr>\n",
       "      <th>98053</th>\n",
       "      <td>0x25487</td>\n",
       "      <td>CUS_0x5602</td>\n",
       "      <td>June</td>\n",
       "      <td>NaN</td>\n",
       "      <td>14</td>\n",
       "      <td>878-33-5924</td>\n",
       "      <td>15360.58_</td>\n",
       "      <td>981.048333</td>\n",
       "      <td>6</td>\n",
       "      <td>9</td>\n",
       "      <td>...</td>\n",
       "      <td>12 Years and 1 Months</td>\n",
       "      <td>Yes</td>\n",
       "      <td>20.753796</td>\n",
       "      <td>89.35808429379891</td>\n",
       "      <td>!@9#%8</td>\n",
       "      <td>267.9929533286813</td>\n",
       "      <td>Poor</td>\n",
       "      <td>Writer</td>\n",
       "      <td>0</td>\n",
       "      <td>14</td>\n",
       "    </tr>\n",
       "    <tr>\n",
       "      <th>98054</th>\n",
       "      <td>0x25488</td>\n",
       "      <td>CUS_0x5602</td>\n",
       "      <td>July</td>\n",
       "      <td>James Tophamy</td>\n",
       "      <td>14</td>\n",
       "      <td>878-33-5924</td>\n",
       "      <td>15360.58</td>\n",
       "      <td>981.048333</td>\n",
       "      <td>6</td>\n",
       "      <td>9</td>\n",
       "      <td>...</td>\n",
       "      <td>12 Years and 2 Months</td>\n",
       "      <td>Yes</td>\n",
       "      <td>20.753796</td>\n",
       "      <td>77.20541549925049</td>\n",
       "      <td>Low_spent_Medium_value_payments</td>\n",
       "      <td>280.14562212322966</td>\n",
       "      <td>Poor</td>\n",
       "      <td>Writer</td>\n",
       "      <td>0</td>\n",
       "      <td>14</td>\n",
       "    </tr>\n",
       "    <tr>\n",
       "      <th>98055</th>\n",
       "      <td>0x25489</td>\n",
       "      <td>CUS_0x5602</td>\n",
       "      <td>August</td>\n",
       "      <td>James Tophamy</td>\n",
       "      <td>14</td>\n",
       "      <td>878-33-5924</td>\n",
       "      <td>15360.58</td>\n",
       "      <td>981.048333</td>\n",
       "      <td>6</td>\n",
       "      <td>9</td>\n",
       "      <td>...</td>\n",
       "      <td>12 Years and 3 Months</td>\n",
       "      <td>Yes</td>\n",
       "      <td>20.753796</td>\n",
       "      <td>68.48304192337096</td>\n",
       "      <td>Low_spent_Small_value_payments</td>\n",
       "      <td>298.8679956991092</td>\n",
       "      <td>Poor</td>\n",
       "      <td>Writer</td>\n",
       "      <td>0</td>\n",
       "      <td>14</td>\n",
       "    </tr>\n",
       "  </tbody>\n",
       "</table>\n",
       "<p>1209 rows × 30 columns</p>\n",
       "</div>"
      ],
      "text/plain": [
       "            ID Customer_ID     Month           Name  Age          SSN  \\\n",
       "408     0x1866  CUS_0xb986   January  Simon Jessope   14  180-88-7800   \n",
       "409     0x1867  CUS_0xb986  February  Simon Jessope   14  180-88-7800   \n",
       "410     0x1868  CUS_0xb986     March            NaN   14  180-88-7800   \n",
       "411     0x1869  CUS_0xb986     April  Simon Jessope   14  180-88-7800   \n",
       "412     0x186a  CUS_0xb986       May  Simon Jessope   14  180-88-7800   \n",
       "...        ...         ...       ...            ...  ...          ...   \n",
       "98051  0x25485  CUS_0x5602     April  James Tophamy   14  878-33-5924   \n",
       "98052  0x25486  CUS_0x5602       May  James Tophamy   14  878-33-5924   \n",
       "98053  0x25487  CUS_0x5602      June            NaN   14  878-33-5924   \n",
       "98054  0x25488  CUS_0x5602      July  James Tophamy   14  878-33-5924   \n",
       "98055  0x25489  CUS_0x5602    August  James Tophamy   14  878-33-5924   \n",
       "\n",
       "      Annual_Income  Monthly_Inhand_Salary  Num_Bank_Accounts  \\\n",
       "408        39887.22            3224.935000                  9   \n",
       "409        39887.22            3224.935000                  9   \n",
       "410        39887.22            3224.935000                  9   \n",
       "411        39887.22            3224.935000                  9   \n",
       "412        39887.22            3224.935000                  9   \n",
       "...             ...                    ...                ...   \n",
       "98051      15360.58                    NaN                  6   \n",
       "98052      15360.58             981.048333                  6   \n",
       "98053     15360.58_             981.048333                  6   \n",
       "98054      15360.58             981.048333                  6   \n",
       "98055      15360.58             981.048333                  6   \n",
       "\n",
       "       Num_Credit_Card  ...      Credit_History_Age Payment_of_Min_Amount  \\\n",
       "408                  9  ...   12 Years and 5 Months                   Yes   \n",
       "409                  9  ...   12 Years and 6 Months                   Yes   \n",
       "410                  9  ...   12 Years and 7 Months                   Yes   \n",
       "411                  9  ...   12 Years and 8 Months                    NM   \n",
       "412                  9  ...   12 Years and 9 Months                   Yes   \n",
       "...                ...  ...                     ...                   ...   \n",
       "98051                9  ...  11 Years and 11 Months                   Yes   \n",
       "98052                9  ...   12 Years and 0 Months                   Yes   \n",
       "98053                9  ...   12 Years and 1 Months                   Yes   \n",
       "98054                9  ...   12 Years and 2 Months                   Yes   \n",
       "98055                9  ...   12 Years and 3 Months                   Yes   \n",
       "\n",
       "      Total_EMI_per_month  Amount_invested_monthly  \\\n",
       "408            133.470845        198.9967507987873   \n",
       "409            133.470845        153.2707254403229   \n",
       "410            133.470845       319.49237384558035   \n",
       "411            133.470845                      NaN   \n",
       "412            133.470845        96.09548178258156   \n",
       "...                   ...                      ...   \n",
       "98051           20.753796       100.08450936870008   \n",
       "98052           20.753796        99.01106230828873   \n",
       "98053           20.753796        89.35808429379891   \n",
       "98054           20.753796        77.20541549925049   \n",
       "98055           20.753796        68.48304192337096   \n",
       "\n",
       "                      Payment_Behaviour     Monthly_Balance  Credit_Score  \\\n",
       "408     Low_spent_Medium_value_payments   270.0259039577801          Poor   \n",
       "409                              !@9#%8   295.7519293162445          Poor   \n",
       "410      Low_spent_Small_value_payments  159.53028091098705          Poor   \n",
       "411      Low_spent_Small_value_payments  176.93147792084778          Poor   \n",
       "412    High_spent_Medium_value_payments   342.9271729739859          Poor   \n",
       "...                                 ...                 ...           ...   \n",
       "98051    Low_spent_Small_value_payments   267.2665282537801          Poor   \n",
       "98052    Low_spent_Small_value_payments   268.3399753141914          Poor   \n",
       "98053                            !@9#%8   267.9929533286813          Poor   \n",
       "98054   Low_spent_Medium_value_payments  280.14562212322966          Poor   \n",
       "98055    Low_spent_Small_value_payments   298.8679956991092          Poor   \n",
       "\n",
       "      Occupation_filled Age_Flag  Age_mode  \n",
       "408           Developer        0        14  \n",
       "409           Developer        0        14  \n",
       "410           Developer        0        14  \n",
       "411           Developer        0        14  \n",
       "412           Developer        0        14  \n",
       "...                 ...      ...       ...  \n",
       "98051            Writer        0        14  \n",
       "98052            Writer        0        14  \n",
       "98053            Writer        0        14  \n",
       "98054            Writer        0        14  \n",
       "98055            Writer        0        14  \n",
       "\n",
       "[1209 rows x 30 columns]"
      ]
     },
     "execution_count": 39,
     "metadata": {},
     "output_type": "execute_result"
    }
   ],
   "source": [
    "train_data_a[train_data_a['Age']==14]"
   ]
  },
  {
   "cell_type": "code",
   "execution_count": 40,
   "id": "ddddc203",
   "metadata": {},
   "outputs": [],
   "source": [
    "train_data_a.drop(['Age_Flag','Age_mode'], axis=1, inplace=True)"
   ]
  },
  {
   "cell_type": "code",
   "execution_count": 41,
   "id": "9e2f1dea",
   "metadata": {},
   "outputs": [],
   "source": [
    "train_data_a['Annual_Income'] = train_data_a['Annual_Income'].apply(lambda x:re.findall(r'\\d+\\.\\d+',x)[0]).astype('float')"
   ]
  },
  {
   "cell_type": "code",
   "execution_count": 42,
   "id": "89dbaff0",
   "metadata": {},
   "outputs": [
    {
     "data": {
      "text/plain": [
       "count    1.000000e+05\n",
       "mean     1.764157e+05\n",
       "std      1.429618e+06\n",
       "min      7.005930e+03\n",
       "25%      1.945750e+04\n",
       "50%      3.757861e+04\n",
       "75%      7.279092e+04\n",
       "max      2.419806e+07\n",
       "Name: Annual_Income, dtype: float64"
      ]
     },
     "execution_count": 42,
     "metadata": {},
     "output_type": "execute_result"
    }
   ],
   "source": [
    "train_data_a['Annual_Income'].describe()"
   ]
  },
  {
   "cell_type": "code",
   "execution_count": 43,
   "id": "473f2bf1",
   "metadata": {},
   "outputs": [],
   "source": [
    "train_data_a['Monthly_salary_m'] = train_data_a.groupby('Customer_ID')['Monthly_Inhand_Salary'].transform('mean')"
   ]
  },
  {
   "cell_type": "code",
   "execution_count": 44,
   "id": "fb9e7d47",
   "metadata": {},
   "outputs": [
    {
     "data": {
      "text/plain": [
       "0        1824.843333\n",
       "1                NaN\n",
       "2                NaN\n",
       "3                NaN\n",
       "4        1824.843333\n",
       "            ...     \n",
       "99995    3359.415833\n",
       "99996    3359.415833\n",
       "99997    3359.415833\n",
       "99998    3359.415833\n",
       "99999    3359.415833\n",
       "Name: Monthly_Inhand_Salary, Length: 100000, dtype: float64"
      ]
     },
     "execution_count": 44,
     "metadata": {},
     "output_type": "execute_result"
    }
   ],
   "source": [
    "train_data_a['Monthly_Inhand_Salary']"
   ]
  },
  {
   "cell_type": "code",
   "execution_count": 45,
   "id": "01d78e3b",
   "metadata": {},
   "outputs": [],
   "source": [
    "train_data_a['Monthly_Inhand_Salary'] = np.where(train_data_a['Monthly_Inhand_Salary'].isnull(), train_data_a['Monthly_salary_m'],train_data_a['Monthly_Inhand_Salary'])"
   ]
  },
  {
   "cell_type": "code",
   "execution_count": 46,
   "id": "a5f8bd9d",
   "metadata": {},
   "outputs": [],
   "source": [
    "train_data_a.drop(['Monthly_salary_m'], axis=1, inplace=True)"
   ]
  },
  {
   "cell_type": "code",
   "execution_count": 47,
   "id": "5967f113",
   "metadata": {},
   "outputs": [
    {
     "data": {
      "text/plain": [
       "1798"
      ]
     },
     "execution_count": 47,
     "metadata": {},
     "output_type": "execute_result"
    }
   ],
   "source": [
    "train_data_a['Num_Bank_Accounts'].max()"
   ]
  },
  {
   "cell_type": "code",
   "execution_count": 48,
   "id": "ece020f9",
   "metadata": {},
   "outputs": [
    {
     "data": {
      "text/plain": [
       "0.10      2.00\n",
       "0.95     10.00\n",
       "0.99    445.01\n",
       "Name: Num_Bank_Accounts, dtype: float64"
      ]
     },
     "execution_count": 48,
     "metadata": {},
     "output_type": "execute_result"
    }
   ],
   "source": [
    "train_data_a['Num_Bank_Accounts'].quantile([0.1, 0.95, 0.99])"
   ]
  },
  {
   "cell_type": "code",
   "execution_count": 49,
   "id": "cc0d6309",
   "metadata": {},
   "outputs": [],
   "source": [
    "train_data_a['Bank_Flag'] = np.where(train_data_a['Num_Bank_Accounts'].between(0,10),0,1)"
   ]
  },
  {
   "cell_type": "code",
   "execution_count": 50,
   "id": "b877d6a0",
   "metadata": {},
   "outputs": [],
   "source": [
    "train_bank = train_data_a.groupby(['Customer_ID'])['Num_Bank_Accounts'].apply(mode, keepdims=False).reset_index()\n",
    "train_bank['Num_Bank_Accounts'] = train_bank['Num_Bank_Accounts'].apply(lambda x:x.mode)\n",
    "train_bank.rename(columns={'Num_Bank_Accounts':'Num_Bank_Accounts_mode'}, inplace=True)\n",
    "train_data_b = train_data_a.merge(train_bank, on='Customer_ID', how='left')\n",
    "train_data_b['Num_Bank_Accounts'] = np.where(train_data_b['Bank_Flag']==1, train_data_b['Num_Bank_Accounts_mode'], train_data_b['Num_Bank_Accounts'])"
   ]
  },
  {
   "cell_type": "code",
   "execution_count": 51,
   "id": "fb8dd770",
   "metadata": {},
   "outputs": [],
   "source": [
    "train_data_b['Num_Bank_Accounts'].replace(-1,0, inplace=True)"
   ]
  },
  {
   "cell_type": "code",
   "execution_count": 52,
   "id": "1172684f",
   "metadata": {},
   "outputs": [],
   "source": [
    "train_data_b.drop(['Bank_Flag','Num_Bank_Accounts_mode'], axis=1, inplace=True)"
   ]
  },
  {
   "cell_type": "code",
   "execution_count": 53,
   "id": "a7467d84",
   "metadata": {},
   "outputs": [],
   "source": [
    "train_data_b['CC_Flag'] = np.where(train_data_b['Num_Credit_Card'].between(0,10),0,1)\n",
    "train_credit = train_data_b.groupby(['Customer_ID'])['Num_Credit_Card'].apply(mode, keepdims=False).reset_index()\n",
    "train_credit['Num_Credit_Card'] = train_credit['Num_Credit_Card'].apply(lambda x:x.mode)\n",
    "train_credit.rename(columns={'Num_Credit_Card':'Num_Credit_Card_mode'}, inplace=True)\n",
    "train_data_c = train_data_b.merge(train_credit, on='Customer_ID', how='left')\n",
    "train_data_c['Num_Credit_Card'] = np.where(train_data_c['CC_Flag']==1, train_data_c['Num_Credit_Card_mode'], train_data_c['Num_Credit_Card'])"
   ]
  },
  {
   "cell_type": "code",
   "execution_count": 54,
   "id": "0ad06775",
   "metadata": {},
   "outputs": [],
   "source": [
    "train_data_c['intrest_Flag'] = np.where(train_data_c['Interest_Rate'].between(0,34),0,1)\n",
    "train_credit = train_data_c.groupby(['Customer_ID'])['Interest_Rate'].apply(mode, keepdims=False).reset_index()\n",
    "train_credit['Interest_Rate'] = train_credit['Interest_Rate'].apply(lambda x:x.mode)\n",
    "train_credit.rename(columns={'Interest_Rate':'Interest_Rate_mode'}, inplace=True)\n",
    "train_data_i = train_data_c.merge(train_credit, on='Customer_ID', how='left')\n",
    "train_data_i['Interest_Rate'] = np.where(train_data_i['intrest_Flag']==1, train_data_i['Interest_Rate_mode'], train_data_i['Interest_Rate'])"
   ]
  },
  {
   "cell_type": "code",
   "execution_count": 55,
   "id": "ef215f90",
   "metadata": {},
   "outputs": [],
   "source": [
    "train_data_i.drop(['CC_Flag','Num_Credit_Card_mode','intrest_Flag','Interest_Rate_mode'], axis=1, inplace=True)"
   ]
  },
  {
   "cell_type": "code",
   "execution_count": 56,
   "id": "0820e666",
   "metadata": {},
   "outputs": [],
   "source": [
    "train_data_i['Num_of_Loan'] = train_data_i['Num_of_Loan'].apply(lambda x:re.findall(r'\\d+',x)[0]).astype('int')"
   ]
  },
  {
   "cell_type": "code",
   "execution_count": 57,
   "id": "ab2b8a2a",
   "metadata": {},
   "outputs": [],
   "source": [
    "def fill_mode(data, col, flag_col):\n",
    "    train_credit = data.groupby(['Customer_ID'])[col].apply(mode, keepdims=False).reset_index()\n",
    "    train_credit[col] = train_credit[col].apply(lambda x:x.mode)\n",
    "    train_credit.rename(columns={col:col+'_mode'}, inplace=True)\n",
    "    train_data_i = data.merge(train_credit, on='Customer_ID', how='left')\n",
    "    train_data_i[col] = np.where(train_data_i[flag_col]==1, train_data_i[col+'_mode'], train_data_i[col])\n",
    "    return train_data_i.drop([flag_col, col+'_mode'], axis=1)"
   ]
  },
  {
   "cell_type": "code",
   "execution_count": 58,
   "id": "c12e3990",
   "metadata": {},
   "outputs": [
    {
     "data": {
      "text/plain": [
       "0.95      9.0\n",
       "0.98    100.0\n",
       "0.99    100.0\n",
       "Name: Num_of_Loan, dtype: float64"
      ]
     },
     "execution_count": 58,
     "metadata": {},
     "output_type": "execute_result"
    }
   ],
   "source": [
    "train_data_i['Num_of_Loan'].quantile([0.95, 0.98,0.99])"
   ]
  },
  {
   "cell_type": "code",
   "execution_count": 59,
   "id": "31c92def",
   "metadata": {},
   "outputs": [],
   "source": [
    "train_data_i['Loan_Flag'] = np.where(train_data_i['Num_of_Loan'].between(0,10),0,1)\n",
    "train_data_l = fill_mode(train_data_i, 'Num_of_Loan', 'Loan_Flag')"
   ]
  },
  {
   "cell_type": "code",
   "execution_count": 60,
   "id": "a67b3741",
   "metadata": {},
   "outputs": [
    {
     "data": {
      "text/plain": [
       "<Axes: ylabel='Frequency'>"
      ]
     },
     "execution_count": 60,
     "metadata": {},
     "output_type": "execute_result"
    },
    {
     "data": {
      "image/png": "[encoded data removed]",
      "text/plain": [
       "<Figure size 640x480 with 1 Axes>"
      ]
     },
     "metadata": {},
     "output_type": "display_data"
    }
   ],
   "source": [
    "train_data_l['Num_of_Loan'].plot.hist()"
   ]
  },
  {
   "cell_type": "code",
   "execution_count": 61,
   "id": "875c71b5",
   "metadata": {},
   "outputs": [],
   "source": [
    "loan_type = \" \".join(map(str, train_data_l['Type_of_Loan'].values.tolist()))"
   ]
  },
  {
   "cell_type": "code",
   "execution_count": 62,
   "id": "d99226c6",
   "metadata": {},
   "outputs": [],
   "source": [
    "loan_types = set(loan_type.replace(\"Not Specified\",'').replace('nan','').replace('and','').replace(',','').replace(\" \",'').split(\"Loan\"))"
   ]
  },
  {
   "cell_type": "code",
   "execution_count": 63,
   "id": "430f0de6",
   "metadata": {},
   "outputs": [],
   "source": [
    "train_data_l['Auto_Loan'] = train_data_l['Type_of_Loan'].apply(lambda x:1 if len(re.findall(r'Auto',str(x)))>0 else 0)\n",
    "train_data_l['CreditBuilder_Loan'] = train_data_l['Type_of_Loan'].apply(lambda x:1 if len(re.findall(r'Credit-Builder',str(x)))>0 else 0)\n",
    "train_data_l['DebtConsolidation_Loan'] = train_data_l['Type_of_Loan'].apply(lambda x:1 if len(re.findall(r'Debt',str(x)))>0 else 0)\n",
    "train_data_l['HomeEquity_Loan'] = train_data_l['Type_of_Loan'].apply(lambda x:1 if len(re.findall(r'Home',str(x)))>0 else 0)\n",
    "train_data_l['Mortgage_Loan'] = train_data_l['Type_of_Loan'].apply(lambda x:1 if len(re.findall(r'Mortgage',str(x)))>0 else 0)\n",
    "train_data_l['Payday_Loan'] = train_data_l['Type_of_Loan'].apply(lambda x:1 if len(re.findall(r'Pay',str(x)))>0 else 0)\n",
    "train_data_l['Personal_Loan'] = train_data_l['Type_of_Loan'].apply(lambda x:1 if len(re.findall(r'Personal',str(x)))>0 else 0)\n",
    "train_data_l['Student_Loan'] = train_data_l['Type_of_Loan'].apply(lambda x:1 if len(re.findall(r'Student',str(x)))>0 else 0)"
   ]
  },
  {
   "cell_type": "code",
   "execution_count": 64,
   "id": "3f779477",
   "metadata": {},
   "outputs": [
    {
     "data": {
      "text/plain": [
       "Auto_Loan                 30560\n",
       "CreditBuilder_Loan        31728\n",
       "DebtConsolidation_Loan    31040\n",
       "HomeEquity_Loan           31400\n",
       "Mortgage_Loan             31360\n",
       "Payday_Loan               31944\n",
       "Personal_Loan             31104\n",
       "Student_Loan              31040\n",
       "dtype: int64"
      ]
     },
     "execution_count": 64,
     "metadata": {},
     "output_type": "execute_result"
    }
   ],
   "source": [
    "train_data_l[['Auto_Loan','CreditBuilder_Loan','DebtConsolidation_Loan','HomeEquity_Loan','Mortgage_Loan','Payday_Loan','Personal_Loan','Student_Loan']].sum()"
   ]
  },
  {
   "cell_type": "code",
   "execution_count": 65,
   "id": "07e328f3",
   "metadata": {},
   "outputs": [],
   "source": [
    "train_data_l.drop(['Type_of_Loan'], axis=1, inplace=True)"
   ]
  },
  {
   "cell_type": "code",
   "execution_count": 66,
   "id": "1e00802d",
   "metadata": {},
   "outputs": [
    {
     "data": {
      "text/plain": [
       "0.10     5.0\n",
       "0.95    54.0\n",
       "0.98    59.0\n",
       "0.99    61.0\n",
       "Name: Delay_from_due_date, dtype: float64"
      ]
     },
     "execution_count": 66,
     "metadata": {},
     "output_type": "execute_result"
    }
   ],
   "source": [
    "train_data_l['Delay_from_due_date'].quantile([0.1, 0.95, 0.98, 0.99])"
   ]
  },
  {
   "cell_type": "code",
   "execution_count": 67,
   "id": "18f483db",
   "metadata": {},
   "outputs": [
    {
     "data": {
      "text/plain": [
       "-5"
      ]
     },
     "execution_count": 67,
     "metadata": {},
     "output_type": "execute_result"
    }
   ],
   "source": [
    "train_data_l['Delay_from_due_date'].min()"
   ]
  },
  {
   "cell_type": "code",
   "execution_count": 68,
   "id": "fb10f760",
   "metadata": {},
   "outputs": [],
   "source": [
    "train_data_l['Num_of_Delayed_Payment'] = train_data_l['Num_of_Delayed_Payment'].apply(lambda x: re.findall(r'\\d+',str(x))[0] if str(x)!='nan' else 99999).astype('float')"
   ]
  },
  {
   "cell_type": "code",
   "execution_count": 69,
   "id": "3841dbc2",
   "metadata": {},
   "outputs": [],
   "source": [
    "train_data_l['delay_flag'] = np.where(train_data_l['Num_of_Delayed_Payment']>100,1,0)"
   ]
  },
  {
   "cell_type": "code",
   "execution_count": 70,
   "id": "14a662ea",
   "metadata": {},
   "outputs": [],
   "source": [
    "train_cust_delay = train_data_l[train_data_l['delay_flag']==0].groupby('Customer_ID')['Num_of_Delayed_Payment'].apply('mean')"
   ]
  },
  {
   "cell_type": "code",
   "execution_count": 71,
   "id": "4e730910",
   "metadata": {},
   "outputs": [],
   "source": [
    "train_cust_delay = train_cust_delay.reset_index()"
   ]
  },
  {
   "cell_type": "code",
   "execution_count": 72,
   "id": "58d694fc",
   "metadata": {},
   "outputs": [],
   "source": [
    "train_cust_delay.rename(columns={'Num_of_Delayed_Payment':'Num_of_Delayed_Payment_mean'}, inplace=True)\n",
    "train_data_delay = pd.merge(train_data_l, train_cust_delay, on='Customer_ID', how='left')"
   ]
  },
  {
   "cell_type": "code",
   "execution_count": 73,
   "id": "4e06ce5b",
   "metadata": {},
   "outputs": [],
   "source": [
    "train_data_delay['Num_of_Delayed_Payment'] = np.where(train_data_delay['delay_flag']==1,train_data_delay['Num_of_Delayed_Payment_mean'], train_data_delay['Num_of_Delayed_Payment'] )"
   ]
  },
  {
   "cell_type": "code",
   "execution_count": 74,
   "id": "b72e1504",
   "metadata": {},
   "outputs": [
    {
     "data": {
      "text/plain": [
       "0.0"
      ]
     },
     "execution_count": 74,
     "metadata": {},
     "output_type": "execute_result"
    }
   ],
   "source": [
    "train_data_delay['Num_of_Delayed_Payment'].min()"
   ]
  },
  {
   "cell_type": "code",
   "execution_count": 75,
   "id": "8f59a68f",
   "metadata": {},
   "outputs": [
    {
     "data": {
      "text/plain": [
       "Index(['ID', 'Customer_ID', 'Month', 'Name', 'Age', 'SSN', 'Annual_Income',\n",
       "       'Monthly_Inhand_Salary', 'Num_Bank_Accounts', 'Num_Credit_Card',\n",
       "       'Interest_Rate', 'Num_of_Loan', 'Delay_from_due_date',\n",
       "       'Num_of_Delayed_Payment', 'Changed_Credit_Limit',\n",
       "       'Num_Credit_Inquiries', 'Credit_Mix', 'Outstanding_Debt',\n",
       "       'Credit_Utilization_Ratio', 'Credit_History_Age',\n",
       "       'Payment_of_Min_Amount', 'Total_EMI_per_month',\n",
       "       'Amount_invested_monthly', 'Payment_Behaviour', 'Monthly_Balance',\n",
       "       'Credit_Score', 'Occupation_filled', 'Auto_Loan', 'CreditBuilder_Loan',\n",
       "       'DebtConsolidation_Loan', 'HomeEquity_Loan', 'Mortgage_Loan',\n",
       "       'Payday_Loan', 'Personal_Loan', 'Student_Loan', 'delay_flag',\n",
       "       'Num_of_Delayed_Payment_mean'],\n",
       "      dtype='object')"
      ]
     },
     "execution_count": 75,
     "metadata": {},
     "output_type": "execute_result"
    }
   ],
   "source": [
    "train_data_delay.columns"
   ]
  },
  {
   "cell_type": "code",
   "execution_count": 76,
   "id": "9f3dba08",
   "metadata": {},
   "outputs": [
    {
     "ename": "OSError",
     "evalue": "Cannot save file into a non-existent directory: 'CreditScoreClassification'",
     "output_type": "error",
     "traceback": [
      "\u001b[1;31m---------------------------------------------------------------------------\u001b[0m",
      "\u001b[1;31mOSError\u001b[0m                                   Traceback (most recent call last)",
      "Cell \u001b[1;32mIn[76], line 1\u001b[0m\n\u001b[1;32m----> 1\u001b[0m \u001b[43mtrain_data_delay\u001b[49m\u001b[38;5;241;43m.\u001b[39;49m\u001b[43mto_csv\u001b[49m\u001b[43m(\u001b[49m\u001b[38;5;124;43m\"\u001b[39;49m\u001b[38;5;124;43mCreditScoreClassification//Train_Processed_till_Num_Delayed_Payment.csv\u001b[39;49m\u001b[38;5;124;43m\"\u001b[39;49m\u001b[43m,\u001b[49m\u001b[43m \u001b[49m\u001b[43mindex\u001b[49m\u001b[38;5;241;43m=\u001b[39;49m\u001b[38;5;28;43;01mFalse\u001b[39;49;00m\u001b[43m)\u001b[49m\n",
      "File \u001b[1;32m~\\anaconda3\\lib\\site-packages\\pandas\\util\\_decorators.py:211\u001b[0m, in \u001b[0;36mdeprecate_kwarg.<locals>._deprecate_kwarg.<locals>.wrapper\u001b[1;34m(*args, **kwargs)\u001b[0m\n\u001b[0;32m    209\u001b[0m     \u001b[38;5;28;01melse\u001b[39;00m:\n\u001b[0;32m    210\u001b[0m         kwargs[new_arg_name] \u001b[38;5;241m=\u001b[39m new_arg_value\n\u001b[1;32m--> 211\u001b[0m \u001b[38;5;28;01mreturn\u001b[39;00m func(\u001b[38;5;241m*\u001b[39margs, \u001b[38;5;241m*\u001b[39m\u001b[38;5;241m*\u001b[39mkwargs)\n",
      "File \u001b[1;32m~\\anaconda3\\lib\\site-packages\\pandas\\core\\generic.py:3720\u001b[0m, in \u001b[0;36mNDFrame.to_csv\u001b[1;34m(self, path_or_buf, sep, na_rep, float_format, columns, header, index, index_label, mode, encoding, compression, quoting, quotechar, lineterminator, chunksize, date_format, doublequote, escapechar, decimal, errors, storage_options)\u001b[0m\n\u001b[0;32m   3709\u001b[0m df \u001b[38;5;241m=\u001b[39m \u001b[38;5;28mself\u001b[39m \u001b[38;5;28;01mif\u001b[39;00m \u001b[38;5;28misinstance\u001b[39m(\u001b[38;5;28mself\u001b[39m, ABCDataFrame) \u001b[38;5;28;01melse\u001b[39;00m \u001b[38;5;28mself\u001b[39m\u001b[38;5;241m.\u001b[39mto_frame()\n\u001b[0;32m   3711\u001b[0m formatter \u001b[38;5;241m=\u001b[39m DataFrameFormatter(\n\u001b[0;32m   3712\u001b[0m     frame\u001b[38;5;241m=\u001b[39mdf,\n\u001b[0;32m   3713\u001b[0m     header\u001b[38;5;241m=\u001b[39mheader,\n\u001b[1;32m   (...)\u001b[0m\n\u001b[0;32m   3717\u001b[0m     decimal\u001b[38;5;241m=\u001b[39mdecimal,\n\u001b[0;32m   3718\u001b[0m )\n\u001b[1;32m-> 3720\u001b[0m \u001b[38;5;28;01mreturn\u001b[39;00m \u001b[43mDataFrameRenderer\u001b[49m\u001b[43m(\u001b[49m\u001b[43mformatter\u001b[49m\u001b[43m)\u001b[49m\u001b[38;5;241;43m.\u001b[39;49m\u001b[43mto_csv\u001b[49m\u001b[43m(\u001b[49m\n\u001b[0;32m   3721\u001b[0m \u001b[43m    \u001b[49m\u001b[43mpath_or_buf\u001b[49m\u001b[43m,\u001b[49m\n\u001b[0;32m   3722\u001b[0m \u001b[43m    \u001b[49m\u001b[43mlineterminator\u001b[49m\u001b[38;5;241;43m=\u001b[39;49m\u001b[43mlineterminator\u001b[49m\u001b[43m,\u001b[49m\n\u001b[0;32m   3723\u001b[0m \u001b[43m    \u001b[49m\u001b[43msep\u001b[49m\u001b[38;5;241;43m=\u001b[39;49m\u001b[43msep\u001b[49m\u001b[43m,\u001b[49m\n\u001b[0;32m   3724\u001b[0m \u001b[43m    \u001b[49m\u001b[43mencoding\u001b[49m\u001b[38;5;241;43m=\u001b[39;49m\u001b[43mencoding\u001b[49m\u001b[43m,\u001b[49m\n\u001b[0;32m   3725\u001b[0m \u001b[43m    \u001b[49m\u001b[43merrors\u001b[49m\u001b[38;5;241;43m=\u001b[39;49m\u001b[43merrors\u001b[49m\u001b[43m,\u001b[49m\n\u001b[0;32m   3726\u001b[0m \u001b[43m    \u001b[49m\u001b[43mcompression\u001b[49m\u001b[38;5;241;43m=\u001b[39;49m\u001b[43mcompression\u001b[49m\u001b[43m,\u001b[49m\n\u001b[0;32m   3727\u001b[0m \u001b[43m    \u001b[49m\u001b[43mquoting\u001b[49m\u001b[38;5;241;43m=\u001b[39;49m\u001b[43mquoting\u001b[49m\u001b[43m,\u001b[49m\n\u001b[0;32m   3728\u001b[0m \u001b[43m    \u001b[49m\u001b[43mcolumns\u001b[49m\u001b[38;5;241;43m=\u001b[39;49m\u001b[43mcolumns\u001b[49m\u001b[43m,\u001b[49m\n\u001b[0;32m   3729\u001b[0m \u001b[43m    \u001b[49m\u001b[43mindex_label\u001b[49m\u001b[38;5;241;43m=\u001b[39;49m\u001b[43mindex_label\u001b[49m\u001b[43m,\u001b[49m\n\u001b[0;32m   3730\u001b[0m \u001b[43m    \u001b[49m\u001b[43mmode\u001b[49m\u001b[38;5;241;43m=\u001b[39;49m\u001b[43mmode\u001b[49m\u001b[43m,\u001b[49m\n\u001b[0;32m   3731\u001b[0m \u001b[43m    \u001b[49m\u001b[43mchunksize\u001b[49m\u001b[38;5;241;43m=\u001b[39;49m\u001b[43mchunksize\u001b[49m\u001b[43m,\u001b[49m\n\u001b[0;32m   3732\u001b[0m \u001b[43m    \u001b[49m\u001b[43mquotechar\u001b[49m\u001b[38;5;241;43m=\u001b[39;49m\u001b[43mquotechar\u001b[49m\u001b[43m,\u001b[49m\n\u001b[0;32m   3733\u001b[0m \u001b[43m    \u001b[49m\u001b[43mdate_format\u001b[49m\u001b[38;5;241;43m=\u001b[39;49m\u001b[43mdate_format\u001b[49m\u001b[43m,\u001b[49m\n\u001b[0;32m   3734\u001b[0m \u001b[43m    \u001b[49m\u001b[43mdoublequote\u001b[49m\u001b[38;5;241;43m=\u001b[39;49m\u001b[43mdoublequote\u001b[49m\u001b[43m,\u001b[49m\n\u001b[0;32m   3735\u001b[0m \u001b[43m    \u001b[49m\u001b[43mescapechar\u001b[49m\u001b[38;5;241;43m=\u001b[39;49m\u001b[43mescapechar\u001b[49m\u001b[43m,\u001b[49m\n\u001b[0;32m   3736\u001b[0m \u001b[43m    \u001b[49m\u001b[43mstorage_options\u001b[49m\u001b[38;5;241;43m=\u001b[39;49m\u001b[43mstorage_options\u001b[49m\u001b[43m,\u001b[49m\n\u001b[0;32m   3737\u001b[0m \u001b[43m\u001b[49m\u001b[43m)\u001b[49m\n",
      "File \u001b[1;32m~\\anaconda3\\lib\\site-packages\\pandas\\util\\_decorators.py:211\u001b[0m, in \u001b[0;36mdeprecate_kwarg.<locals>._deprecate_kwarg.<locals>.wrapper\u001b[1;34m(*args, **kwargs)\u001b[0m\n\u001b[0;32m    209\u001b[0m     \u001b[38;5;28;01melse\u001b[39;00m:\n\u001b[0;32m    210\u001b[0m         kwargs[new_arg_name] \u001b[38;5;241m=\u001b[39m new_arg_value\n\u001b[1;32m--> 211\u001b[0m \u001b[38;5;28;01mreturn\u001b[39;00m func(\u001b[38;5;241m*\u001b[39margs, \u001b[38;5;241m*\u001b[39m\u001b[38;5;241m*\u001b[39mkwargs)\n",
      "File \u001b[1;32m~\\anaconda3\\lib\\site-packages\\pandas\\io\\formats\\format.py:1189\u001b[0m, in \u001b[0;36mDataFrameRenderer.to_csv\u001b[1;34m(self, path_or_buf, encoding, sep, columns, index_label, mode, compression, quoting, quotechar, lineterminator, chunksize, date_format, doublequote, escapechar, errors, storage_options)\u001b[0m\n\u001b[0;32m   1168\u001b[0m     created_buffer \u001b[38;5;241m=\u001b[39m \u001b[38;5;28;01mFalse\u001b[39;00m\n\u001b[0;32m   1170\u001b[0m csv_formatter \u001b[38;5;241m=\u001b[39m CSVFormatter(\n\u001b[0;32m   1171\u001b[0m     path_or_buf\u001b[38;5;241m=\u001b[39mpath_or_buf,\n\u001b[0;32m   1172\u001b[0m     lineterminator\u001b[38;5;241m=\u001b[39mlineterminator,\n\u001b[1;32m   (...)\u001b[0m\n\u001b[0;32m   1187\u001b[0m     formatter\u001b[38;5;241m=\u001b[39m\u001b[38;5;28mself\u001b[39m\u001b[38;5;241m.\u001b[39mfmt,\n\u001b[0;32m   1188\u001b[0m )\n\u001b[1;32m-> 1189\u001b[0m \u001b[43mcsv_formatter\u001b[49m\u001b[38;5;241;43m.\u001b[39;49m\u001b[43msave\u001b[49m\u001b[43m(\u001b[49m\u001b[43m)\u001b[49m\n\u001b[0;32m   1191\u001b[0m \u001b[38;5;28;01mif\u001b[39;00m created_buffer:\n\u001b[0;32m   1192\u001b[0m     \u001b[38;5;28;01massert\u001b[39;00m \u001b[38;5;28misinstance\u001b[39m(path_or_buf, StringIO)\n",
      "File \u001b[1;32m~\\anaconda3\\lib\\site-packages\\pandas\\io\\formats\\csvs.py:241\u001b[0m, in \u001b[0;36mCSVFormatter.save\u001b[1;34m(self)\u001b[0m\n\u001b[0;32m    237\u001b[0m \u001b[38;5;124;03m\"\"\"\u001b[39;00m\n\u001b[0;32m    238\u001b[0m \u001b[38;5;124;03mCreate the writer & save.\u001b[39;00m\n\u001b[0;32m    239\u001b[0m \u001b[38;5;124;03m\"\"\"\u001b[39;00m\n\u001b[0;32m    240\u001b[0m \u001b[38;5;66;03m# apply compression and byte/text conversion\u001b[39;00m\n\u001b[1;32m--> 241\u001b[0m \u001b[38;5;28;01mwith\u001b[39;00m \u001b[43mget_handle\u001b[49m\u001b[43m(\u001b[49m\n\u001b[0;32m    242\u001b[0m \u001b[43m    \u001b[49m\u001b[38;5;28;43mself\u001b[39;49m\u001b[38;5;241;43m.\u001b[39;49m\u001b[43mfilepath_or_buffer\u001b[49m\u001b[43m,\u001b[49m\n\u001b[0;32m    243\u001b[0m \u001b[43m    \u001b[49m\u001b[38;5;28;43mself\u001b[39;49m\u001b[38;5;241;43m.\u001b[39;49m\u001b[43mmode\u001b[49m\u001b[43m,\u001b[49m\n\u001b[0;32m    244\u001b[0m \u001b[43m    \u001b[49m\u001b[43mencoding\u001b[49m\u001b[38;5;241;43m=\u001b[39;49m\u001b[38;5;28;43mself\u001b[39;49m\u001b[38;5;241;43m.\u001b[39;49m\u001b[43mencoding\u001b[49m\u001b[43m,\u001b[49m\n\u001b[0;32m    245\u001b[0m \u001b[43m    \u001b[49m\u001b[43merrors\u001b[49m\u001b[38;5;241;43m=\u001b[39;49m\u001b[38;5;28;43mself\u001b[39;49m\u001b[38;5;241;43m.\u001b[39;49m\u001b[43merrors\u001b[49m\u001b[43m,\u001b[49m\n\u001b[0;32m    246\u001b[0m \u001b[43m    \u001b[49m\u001b[43mcompression\u001b[49m\u001b[38;5;241;43m=\u001b[39;49m\u001b[38;5;28;43mself\u001b[39;49m\u001b[38;5;241;43m.\u001b[39;49m\u001b[43mcompression\u001b[49m\u001b[43m,\u001b[49m\n\u001b[0;32m    247\u001b[0m \u001b[43m    \u001b[49m\u001b[43mstorage_options\u001b[49m\u001b[38;5;241;43m=\u001b[39;49m\u001b[38;5;28;43mself\u001b[39;49m\u001b[38;5;241;43m.\u001b[39;49m\u001b[43mstorage_options\u001b[49m\u001b[43m,\u001b[49m\n\u001b[0;32m    248\u001b[0m \u001b[43m\u001b[49m\u001b[43m)\u001b[49m \u001b[38;5;28;01mas\u001b[39;00m handles:\n\u001b[0;32m    249\u001b[0m \n\u001b[0;32m    250\u001b[0m     \u001b[38;5;66;03m# Note: self.encoding is irrelevant here\u001b[39;00m\n\u001b[0;32m    251\u001b[0m     \u001b[38;5;28mself\u001b[39m\u001b[38;5;241m.\u001b[39mwriter \u001b[38;5;241m=\u001b[39m csvlib\u001b[38;5;241m.\u001b[39mwriter(\n\u001b[0;32m    252\u001b[0m         handles\u001b[38;5;241m.\u001b[39mhandle,\n\u001b[0;32m    253\u001b[0m         lineterminator\u001b[38;5;241m=\u001b[39m\u001b[38;5;28mself\u001b[39m\u001b[38;5;241m.\u001b[39mlineterminator,\n\u001b[1;32m   (...)\u001b[0m\n\u001b[0;32m    258\u001b[0m         quotechar\u001b[38;5;241m=\u001b[39m\u001b[38;5;28mself\u001b[39m\u001b[38;5;241m.\u001b[39mquotechar,\n\u001b[0;32m    259\u001b[0m     )\n\u001b[0;32m    261\u001b[0m     \u001b[38;5;28mself\u001b[39m\u001b[38;5;241m.\u001b[39m_save()\n",
      "File \u001b[1;32m~\\anaconda3\\lib\\site-packages\\pandas\\io\\common.py:734\u001b[0m, in \u001b[0;36mget_handle\u001b[1;34m(path_or_buf, mode, encoding, compression, memory_map, is_text, errors, storage_options)\u001b[0m\n\u001b[0;32m    732\u001b[0m \u001b[38;5;66;03m# Only for write methods\u001b[39;00m\n\u001b[0;32m    733\u001b[0m \u001b[38;5;28;01mif\u001b[39;00m \u001b[38;5;124m\"\u001b[39m\u001b[38;5;124mr\u001b[39m\u001b[38;5;124m\"\u001b[39m \u001b[38;5;129;01mnot\u001b[39;00m \u001b[38;5;129;01min\u001b[39;00m mode \u001b[38;5;129;01mand\u001b[39;00m is_path:\n\u001b[1;32m--> 734\u001b[0m     \u001b[43mcheck_parent_directory\u001b[49m\u001b[43m(\u001b[49m\u001b[38;5;28;43mstr\u001b[39;49m\u001b[43m(\u001b[49m\u001b[43mhandle\u001b[49m\u001b[43m)\u001b[49m\u001b[43m)\u001b[49m\n\u001b[0;32m    736\u001b[0m \u001b[38;5;28;01mif\u001b[39;00m compression:\n\u001b[0;32m    737\u001b[0m     \u001b[38;5;28;01mif\u001b[39;00m compression \u001b[38;5;241m!=\u001b[39m \u001b[38;5;124m\"\u001b[39m\u001b[38;5;124mzstd\u001b[39m\u001b[38;5;124m\"\u001b[39m:\n\u001b[0;32m    738\u001b[0m         \u001b[38;5;66;03m# compression libraries do not like an explicit text-mode\u001b[39;00m\n",
      "File \u001b[1;32m~\\anaconda3\\lib\\site-packages\\pandas\\io\\common.py:597\u001b[0m, in \u001b[0;36mcheck_parent_directory\u001b[1;34m(path)\u001b[0m\n\u001b[0;32m    595\u001b[0m parent \u001b[38;5;241m=\u001b[39m Path(path)\u001b[38;5;241m.\u001b[39mparent\n\u001b[0;32m    596\u001b[0m \u001b[38;5;28;01mif\u001b[39;00m \u001b[38;5;129;01mnot\u001b[39;00m parent\u001b[38;5;241m.\u001b[39mis_dir():\n\u001b[1;32m--> 597\u001b[0m     \u001b[38;5;28;01mraise\u001b[39;00m \u001b[38;5;167;01mOSError\u001b[39;00m(\u001b[38;5;124mrf\u001b[39m\u001b[38;5;124m\"\u001b[39m\u001b[38;5;124mCannot save file into a non-existent directory: \u001b[39m\u001b[38;5;124m'\u001b[39m\u001b[38;5;132;01m{\u001b[39;00mparent\u001b[38;5;132;01m}\u001b[39;00m\u001b[38;5;124m'\u001b[39m\u001b[38;5;124m\"\u001b[39m)\n",
      "\u001b[1;31mOSError\u001b[0m: Cannot save file into a non-existent directory: 'CreditScoreClassification'"
     ]
    }
   ],
   "source": [
    "train_data_delay.to_csv(\"CreditScoreClassification//Train_Processed_till_Num_Delayed_Payment.csv\", index=False)"
   ]
  }
 ],
 "metadata": {
  "kernelspec": {
   "display_name": "Python 3 (ipykernel)",
   "language": "python",
   "name": "python3"
  },
  "language_info": {
   "codemirror_mode": {
    "name": "ipython",
    "version": 3
   },
   "file_extension": ".py",
   "mimetype": "text/x-python",
   "name": "python",
   "nbconvert_exporter": "python",
   "pygments_lexer": "ipython3",
   "version": "3.10.9"
  }
 },
 "nbformat": 4,
 "nbformat_minor": 5
}
